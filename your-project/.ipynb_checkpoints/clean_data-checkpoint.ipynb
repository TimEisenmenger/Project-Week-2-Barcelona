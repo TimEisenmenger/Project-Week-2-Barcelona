{
 "cells": [
  {
   "cell_type": "markdown",
   "metadata": {},
   "source": [
    "# Clean Dataset - Air Quality Barcelona'18"
   ]
  },
  {
   "cell_type": "code",
   "execution_count": 113,
   "metadata": {},
   "outputs": [],
   "source": [
    "import pandas as pd\n",
    "import numpy as np"
   ]
  },
  {
   "cell_type": "code",
   "execution_count": 114,
   "metadata": {},
   "outputs": [],
   "source": [
    "clean_data = pd.read_csv(r\"C:\\Users\\kim.buchner\\Desktop\\Ironhack\\Module1\\WEEK2\\Project-Week-2-Barcelona\\your-project\\air_quality.csv\",index_col=0)"
   ]
  },
  {
   "cell_type": "code",
   "execution_count": 115,
   "metadata": {},
   "outputs": [
    {
     "data": {
      "text/html": [
       "<div>\n",
       "<style scoped>\n",
       "    .dataframe tbody tr th:only-of-type {\n",
       "        vertical-align: middle;\n",
       "    }\n",
       "\n",
       "    .dataframe tbody tr th {\n",
       "        vertical-align: top;\n",
       "    }\n",
       "\n",
       "    .dataframe thead th {\n",
       "        text-align: right;\n",
       "    }\n",
       "</style>\n",
       "<table border=\"1\" class=\"dataframe\">\n",
       "  <thead>\n",
       "    <tr style=\"text-align: right;\">\n",
       "      <th></th>\n",
       "      <th>Station</th>\n",
       "      <th>Air Quality</th>\n",
       "      <th>O3 Quality</th>\n",
       "      <th>O3 µg/m3</th>\n",
       "      <th>NO2 Quality</th>\n",
       "      <th>NO2 µg/m3</th>\n",
       "      <th>PM10 Quality</th>\n",
       "      <th>PM10 µg/m3</th>\n",
       "      <th>Date Time</th>\n",
       "      <th>Generated Date</th>\n",
       "      <th>Generated Time</th>\n",
       "      <th>Week Day</th>\n",
       "    </tr>\n",
       "  </thead>\n",
       "  <tbody>\n",
       "    <tr>\n",
       "      <th>0</th>\n",
       "      <td>Sants</td>\n",
       "      <td>Good</td>\n",
       "      <td>NaN</td>\n",
       "      <td>NaN</td>\n",
       "      <td>Good</td>\n",
       "      <td>84.0</td>\n",
       "      <td>NaN</td>\n",
       "      <td>NaN</td>\n",
       "      <td>1541027104</td>\n",
       "      <td>01/11/18</td>\n",
       "      <td>0:00</td>\n",
       "      <td>Thursday</td>\n",
       "    </tr>\n",
       "    <tr>\n",
       "      <th>1</th>\n",
       "      <td>Eixample</td>\n",
       "      <td>Moderate</td>\n",
       "      <td>Good</td>\n",
       "      <td>1.0</td>\n",
       "      <td>Moderate</td>\n",
       "      <td>113.0</td>\n",
       "      <td>Good</td>\n",
       "      <td>36.0</td>\n",
       "      <td>1541027104</td>\n",
       "      <td>01/11/18</td>\n",
       "      <td>0:00</td>\n",
       "      <td>Thursday</td>\n",
       "    </tr>\n",
       "    <tr>\n",
       "      <th>2</th>\n",
       "      <td>Gràcia</td>\n",
       "      <td>Good</td>\n",
       "      <td>Good</td>\n",
       "      <td>10.0</td>\n",
       "      <td>Good</td>\n",
       "      <td>73.0</td>\n",
       "      <td>NaN</td>\n",
       "      <td>NaN</td>\n",
       "      <td>1541027104</td>\n",
       "      <td>01/11/18</td>\n",
       "      <td>0:00</td>\n",
       "      <td>Thursday</td>\n",
       "    </tr>\n",
       "    <tr>\n",
       "      <th>3</th>\n",
       "      <td>Ciutadella</td>\n",
       "      <td>Good</td>\n",
       "      <td>Good</td>\n",
       "      <td>2.0</td>\n",
       "      <td>Good</td>\n",
       "      <td>86.0</td>\n",
       "      <td>NaN</td>\n",
       "      <td>NaN</td>\n",
       "      <td>1541027104</td>\n",
       "      <td>01/11/18</td>\n",
       "      <td>0:00</td>\n",
       "      <td>Thursday</td>\n",
       "    </tr>\n",
       "    <tr>\n",
       "      <th>4</th>\n",
       "      <td>Vall Hebron</td>\n",
       "      <td>Good</td>\n",
       "      <td>Good</td>\n",
       "      <td>7.0</td>\n",
       "      <td>Good</td>\n",
       "      <td>69.0</td>\n",
       "      <td>NaN</td>\n",
       "      <td>NaN</td>\n",
       "      <td>1541027104</td>\n",
       "      <td>01/11/18</td>\n",
       "      <td>0:00</td>\n",
       "      <td>Thursday</td>\n",
       "    </tr>\n",
       "    <tr>\n",
       "      <th>...</th>\n",
       "      <td>...</td>\n",
       "      <td>...</td>\n",
       "      <td>...</td>\n",
       "      <td>...</td>\n",
       "      <td>...</td>\n",
       "      <td>...</td>\n",
       "      <td>...</td>\n",
       "      <td>...</td>\n",
       "      <td>...</td>\n",
       "      <td>...</td>\n",
       "      <td>...</td>\n",
       "      <td>...</td>\n",
       "    </tr>\n",
       "    <tr>\n",
       "      <th>5739</th>\n",
       "      <td>Ciutadella</td>\n",
       "      <td>Good</td>\n",
       "      <td>Good</td>\n",
       "      <td>10.0</td>\n",
       "      <td>Good</td>\n",
       "      <td>57.0</td>\n",
       "      <td>NaN</td>\n",
       "      <td>NaN</td>\n",
       "      <td>1543615502</td>\n",
       "      <td>30/11/18</td>\n",
       "      <td>23:00</td>\n",
       "      <td>Friday</td>\n",
       "    </tr>\n",
       "    <tr>\n",
       "      <th>5740</th>\n",
       "      <td>Vall Hebron</td>\n",
       "      <td>Good</td>\n",
       "      <td>Good</td>\n",
       "      <td>32.0</td>\n",
       "      <td>Good</td>\n",
       "      <td>31.0</td>\n",
       "      <td>Good</td>\n",
       "      <td>21.0</td>\n",
       "      <td>1543615502</td>\n",
       "      <td>30/11/18</td>\n",
       "      <td>23:00</td>\n",
       "      <td>Friday</td>\n",
       "    </tr>\n",
       "    <tr>\n",
       "      <th>5741</th>\n",
       "      <td>Palau Reial</td>\n",
       "      <td>Good</td>\n",
       "      <td>Good</td>\n",
       "      <td>40.0</td>\n",
       "      <td>Good</td>\n",
       "      <td>20.0</td>\n",
       "      <td>Good</td>\n",
       "      <td>15.0</td>\n",
       "      <td>1543615502</td>\n",
       "      <td>30/11/18</td>\n",
       "      <td>23:00</td>\n",
       "      <td>Friday</td>\n",
       "    </tr>\n",
       "    <tr>\n",
       "      <th>5742</th>\n",
       "      <td>Poblenou</td>\n",
       "      <td>Good</td>\n",
       "      <td>NaN</td>\n",
       "      <td>NaN</td>\n",
       "      <td>Good</td>\n",
       "      <td>70.0</td>\n",
       "      <td>Good</td>\n",
       "      <td>25.0</td>\n",
       "      <td>1543615502</td>\n",
       "      <td>30/11/18</td>\n",
       "      <td>23:00</td>\n",
       "      <td>Friday</td>\n",
       "    </tr>\n",
       "    <tr>\n",
       "      <th>5743</th>\n",
       "      <td>Observ Fabra</td>\n",
       "      <td>Good</td>\n",
       "      <td>Good</td>\n",
       "      <td>64.0</td>\n",
       "      <td>Good</td>\n",
       "      <td>21.0</td>\n",
       "      <td>Good</td>\n",
       "      <td>12.0</td>\n",
       "      <td>1543615502</td>\n",
       "      <td>30/11/18</td>\n",
       "      <td>23:00</td>\n",
       "      <td>Friday</td>\n",
       "    </tr>\n",
       "  </tbody>\n",
       "</table>\n",
       "<p>5744 rows × 12 columns</p>\n",
       "</div>"
      ],
      "text/plain": [
       "           Station Air Quality O3 Quality  O3 µg/m3 NO2 Quality  NO2 µg/m3  \\\n",
       "0            Sants        Good        NaN       NaN        Good       84.0   \n",
       "1         Eixample    Moderate       Good       1.0    Moderate      113.0   \n",
       "2           Gràcia        Good       Good      10.0        Good       73.0   \n",
       "3       Ciutadella        Good       Good       2.0        Good       86.0   \n",
       "4      Vall Hebron        Good       Good       7.0        Good       69.0   \n",
       "...            ...         ...        ...       ...         ...        ...   \n",
       "5739    Ciutadella        Good       Good      10.0        Good       57.0   \n",
       "5740   Vall Hebron        Good       Good      32.0        Good       31.0   \n",
       "5741   Palau Reial        Good       Good      40.0        Good       20.0   \n",
       "5742      Poblenou        Good        NaN       NaN        Good       70.0   \n",
       "5743  Observ Fabra        Good       Good      64.0        Good       21.0   \n",
       "\n",
       "     PM10 Quality  PM10 µg/m3   Date Time Generated Date Generated Time  \\\n",
       "0             NaN         NaN  1541027104       01/11/18           0:00   \n",
       "1            Good        36.0  1541027104       01/11/18           0:00   \n",
       "2             NaN         NaN  1541027104       01/11/18           0:00   \n",
       "3             NaN         NaN  1541027104       01/11/18           0:00   \n",
       "4             NaN         NaN  1541027104       01/11/18           0:00   \n",
       "...           ...         ...         ...            ...            ...   \n",
       "5739          NaN         NaN  1543615502       30/11/18          23:00   \n",
       "5740         Good        21.0  1543615502       30/11/18          23:00   \n",
       "5741         Good        15.0  1543615502       30/11/18          23:00   \n",
       "5742         Good        25.0  1543615502       30/11/18          23:00   \n",
       "5743         Good        12.0  1543615502       30/11/18          23:00   \n",
       "\n",
       "      Week Day  \n",
       "0     Thursday  \n",
       "1     Thursday  \n",
       "2     Thursday  \n",
       "3     Thursday  \n",
       "4     Thursday  \n",
       "...        ...  \n",
       "5739    Friday  \n",
       "5740    Friday  \n",
       "5741    Friday  \n",
       "5742    Friday  \n",
       "5743    Friday  \n",
       "\n",
       "[5744 rows x 12 columns]"
      ]
     },
     "execution_count": 115,
     "metadata": {},
     "output_type": "execute_result"
    }
   ],
   "source": [
    "clean_data"
   ]
  },
  {
   "cell_type": "markdown",
   "metadata": {},
   "source": [
    "## Questions"
   ]
  },
  {
   "cell_type": "code",
   "execution_count": 116,
   "metadata": {},
   "outputs": [],
   "source": [
    "#Questions to answer\n",
    "\n",
    "#Most polluted day of the week\n",
    "#Most polluted day of the whole month\n",
    "#Peak of pollution daily (what time, all polutants or for each pollutant)\n",
    "\n",
    "#For all of Barcelona\n",
    "#For certain stations (center, outside of town, eg. for comparison)"
   ]
  },
  {
   "cell_type": "markdown",
   "metadata": {},
   "source": [
    "## Most polluted days/pollutant of November"
   ]
  },
  {
   "cell_type": "code",
   "execution_count": 117,
   "metadata": {},
   "outputs": [
    {
     "data": {
      "text/html": [
       "<div>\n",
       "<style scoped>\n",
       "    .dataframe tbody tr th:only-of-type {\n",
       "        vertical-align: middle;\n",
       "    }\n",
       "\n",
       "    .dataframe tbody tr th {\n",
       "        vertical-align: top;\n",
       "    }\n",
       "\n",
       "    .dataframe thead th {\n",
       "        text-align: right;\n",
       "    }\n",
       "</style>\n",
       "<table border=\"1\" class=\"dataframe\">\n",
       "  <thead>\n",
       "    <tr style=\"text-align: right;\">\n",
       "      <th></th>\n",
       "      <th></th>\n",
       "      <th>O3 µg/m3</th>\n",
       "      <th>NO2 µg/m3</th>\n",
       "      <th>PM10 µg/m3</th>\n",
       "    </tr>\n",
       "    <tr>\n",
       "      <th>Generated Date</th>\n",
       "      <th>Week Day</th>\n",
       "      <th></th>\n",
       "      <th></th>\n",
       "      <th></th>\n",
       "    </tr>\n",
       "  </thead>\n",
       "  <tbody>\n",
       "    <tr>\n",
       "      <th>01/11/18</th>\n",
       "      <th>Thursday</th>\n",
       "      <td>41.779412</td>\n",
       "      <td>28.446927</td>\n",
       "      <td>16.031250</td>\n",
       "    </tr>\n",
       "    <tr>\n",
       "      <th>02/11/18</th>\n",
       "      <th>Friday</th>\n",
       "      <td>28.124088</td>\n",
       "      <td>37.536723</td>\n",
       "      <td>11.114583</td>\n",
       "    </tr>\n",
       "    <tr>\n",
       "      <th>03/11/18</th>\n",
       "      <th>Saturday</th>\n",
       "      <td>30.036232</td>\n",
       "      <td>29.129730</td>\n",
       "      <td>11.389381</td>\n",
       "    </tr>\n",
       "    <tr>\n",
       "      <th>04/11/18</th>\n",
       "      <th>Sunday</th>\n",
       "      <td>36.145038</td>\n",
       "      <td>31.457627</td>\n",
       "      <td>10.016667</td>\n",
       "    </tr>\n",
       "    <tr>\n",
       "      <th>05/11/18</th>\n",
       "      <th>Monday</th>\n",
       "      <td>31.992537</td>\n",
       "      <td>45.000000</td>\n",
       "      <td>21.572816</td>\n",
       "    </tr>\n",
       "    <tr>\n",
       "      <th>06/11/18</th>\n",
       "      <th>Tuesday</th>\n",
       "      <td>42.300000</td>\n",
       "      <td>26.585106</td>\n",
       "      <td>15.061404</td>\n",
       "    </tr>\n",
       "    <tr>\n",
       "      <th>07/11/18</th>\n",
       "      <th>Wednesday</th>\n",
       "      <td>35.648855</td>\n",
       "      <td>40.647399</td>\n",
       "      <td>10.325000</td>\n",
       "    </tr>\n",
       "    <tr>\n",
       "      <th>08/11/18</th>\n",
       "      <th>Thursday</th>\n",
       "      <td>25.083333</td>\n",
       "      <td>47.743017</td>\n",
       "      <td>16.200000</td>\n",
       "    </tr>\n",
       "    <tr>\n",
       "      <th>09/11/18</th>\n",
       "      <th>Friday</th>\n",
       "      <td>29.661765</td>\n",
       "      <td>39.929348</td>\n",
       "      <td>20.446602</td>\n",
       "    </tr>\n",
       "    <tr>\n",
       "      <th>10/11/18</th>\n",
       "      <th>Saturday</th>\n",
       "      <td>42.829787</td>\n",
       "      <td>27.931217</td>\n",
       "      <td>9.583333</td>\n",
       "    </tr>\n",
       "    <tr>\n",
       "      <th>11/11/18</th>\n",
       "      <th>Sunday</th>\n",
       "      <td>37.798507</td>\n",
       "      <td>29.061111</td>\n",
       "      <td>13.069565</td>\n",
       "    </tr>\n",
       "    <tr>\n",
       "      <th>12/11/18</th>\n",
       "      <th>Monday</th>\n",
       "      <td>33.174825</td>\n",
       "      <td>40.099476</td>\n",
       "      <td>20.141667</td>\n",
       "    </tr>\n",
       "    <tr>\n",
       "      <th>13/11/18</th>\n",
       "      <th>Tuesday</th>\n",
       "      <td>43.893617</td>\n",
       "      <td>31.793651</td>\n",
       "      <td>28.933333</td>\n",
       "    </tr>\n",
       "    <tr>\n",
       "      <th>14/11/18</th>\n",
       "      <th>Wednesday</th>\n",
       "      <td>42.717391</td>\n",
       "      <td>31.715084</td>\n",
       "      <td>28.491667</td>\n",
       "    </tr>\n",
       "    <tr>\n",
       "      <th>15/11/18</th>\n",
       "      <th>Thursday</th>\n",
       "      <td>38.408759</td>\n",
       "      <td>32.410811</td>\n",
       "      <td>22.866667</td>\n",
       "    </tr>\n",
       "    <tr>\n",
       "      <th>16/11/18</th>\n",
       "      <th>Friday</th>\n",
       "      <td>24.040000</td>\n",
       "      <td>42.419162</td>\n",
       "      <td>15.867347</td>\n",
       "    </tr>\n",
       "    <tr>\n",
       "      <th>17/11/18</th>\n",
       "      <th>Saturday</th>\n",
       "      <td>44.727273</td>\n",
       "      <td>26.244444</td>\n",
       "      <td>21.555556</td>\n",
       "    </tr>\n",
       "    <tr>\n",
       "      <th>18/11/18</th>\n",
       "      <th>Sunday</th>\n",
       "      <td>56.874126</td>\n",
       "      <td>15.896739</td>\n",
       "      <td>14.658333</td>\n",
       "    </tr>\n",
       "    <tr>\n",
       "      <th>19/11/18</th>\n",
       "      <th>Monday</th>\n",
       "      <td>48.525547</td>\n",
       "      <td>26.893855</td>\n",
       "      <td>15.266667</td>\n",
       "    </tr>\n",
       "    <tr>\n",
       "      <th>20/11/18</th>\n",
       "      <th>Tuesday</th>\n",
       "      <td>25.362963</td>\n",
       "      <td>44.382514</td>\n",
       "      <td>16.483333</td>\n",
       "    </tr>\n",
       "    <tr>\n",
       "      <th>21/11/18</th>\n",
       "      <th>Wednesday</th>\n",
       "      <td>30.830769</td>\n",
       "      <td>38.248588</td>\n",
       "      <td>14.625000</td>\n",
       "    </tr>\n",
       "    <tr>\n",
       "      <th>22/11/18</th>\n",
       "      <th>Thursday</th>\n",
       "      <td>31.267176</td>\n",
       "      <td>45.072626</td>\n",
       "      <td>14.208633</td>\n",
       "    </tr>\n",
       "    <tr>\n",
       "      <th>23/11/18</th>\n",
       "      <th>Friday</th>\n",
       "      <td>19.514085</td>\n",
       "      <td>49.615789</td>\n",
       "      <td>20.284722</td>\n",
       "    </tr>\n",
       "    <tr>\n",
       "      <th>24/11/18</th>\n",
       "      <th>Saturday</th>\n",
       "      <td>33.438849</td>\n",
       "      <td>27.245989</td>\n",
       "      <td>14.395833</td>\n",
       "    </tr>\n",
       "    <tr>\n",
       "      <th>25/11/18</th>\n",
       "      <th>Sunday</th>\n",
       "      <td>37.291667</td>\n",
       "      <td>26.594737</td>\n",
       "      <td>8.993056</td>\n",
       "    </tr>\n",
       "    <tr>\n",
       "      <th>26/11/18</th>\n",
       "      <th>Monday</th>\n",
       "      <td>28.919118</td>\n",
       "      <td>31.234286</td>\n",
       "      <td>10.580420</td>\n",
       "    </tr>\n",
       "    <tr>\n",
       "      <th>27/11/18</th>\n",
       "      <th>Tuesday</th>\n",
       "      <td>35.395683</td>\n",
       "      <td>33.269006</td>\n",
       "      <td>10.033333</td>\n",
       "    </tr>\n",
       "    <tr>\n",
       "      <th>28/11/18</th>\n",
       "      <th>Wednesday</th>\n",
       "      <td>24.500000</td>\n",
       "      <td>44.322581</td>\n",
       "      <td>16.000000</td>\n",
       "    </tr>\n",
       "    <tr>\n",
       "      <th>29/11/18</th>\n",
       "      <th>Thursday</th>\n",
       "      <td>16.728571</td>\n",
       "      <td>57.117021</td>\n",
       "      <td>24.062500</td>\n",
       "    </tr>\n",
       "    <tr>\n",
       "      <th>30/11/18</th>\n",
       "      <th>Friday</th>\n",
       "      <td>23.815603</td>\n",
       "      <td>44.211640</td>\n",
       "      <td>24.652778</td>\n",
       "    </tr>\n",
       "  </tbody>\n",
       "</table>\n",
       "</div>"
      ],
      "text/plain": [
       "                           O3 µg/m3  NO2 µg/m3  PM10 µg/m3\n",
       "Generated Date Week Day                                   \n",
       "01/11/18       Thursday   41.779412  28.446927   16.031250\n",
       "02/11/18       Friday     28.124088  37.536723   11.114583\n",
       "03/11/18       Saturday   30.036232  29.129730   11.389381\n",
       "04/11/18       Sunday     36.145038  31.457627   10.016667\n",
       "05/11/18       Monday     31.992537  45.000000   21.572816\n",
       "06/11/18       Tuesday    42.300000  26.585106   15.061404\n",
       "07/11/18       Wednesday  35.648855  40.647399   10.325000\n",
       "08/11/18       Thursday   25.083333  47.743017   16.200000\n",
       "09/11/18       Friday     29.661765  39.929348   20.446602\n",
       "10/11/18       Saturday   42.829787  27.931217    9.583333\n",
       "11/11/18       Sunday     37.798507  29.061111   13.069565\n",
       "12/11/18       Monday     33.174825  40.099476   20.141667\n",
       "13/11/18       Tuesday    43.893617  31.793651   28.933333\n",
       "14/11/18       Wednesday  42.717391  31.715084   28.491667\n",
       "15/11/18       Thursday   38.408759  32.410811   22.866667\n",
       "16/11/18       Friday     24.040000  42.419162   15.867347\n",
       "17/11/18       Saturday   44.727273  26.244444   21.555556\n",
       "18/11/18       Sunday     56.874126  15.896739   14.658333\n",
       "19/11/18       Monday     48.525547  26.893855   15.266667\n",
       "20/11/18       Tuesday    25.362963  44.382514   16.483333\n",
       "21/11/18       Wednesday  30.830769  38.248588   14.625000\n",
       "22/11/18       Thursday   31.267176  45.072626   14.208633\n",
       "23/11/18       Friday     19.514085  49.615789   20.284722\n",
       "24/11/18       Saturday   33.438849  27.245989   14.395833\n",
       "25/11/18       Sunday     37.291667  26.594737    8.993056\n",
       "26/11/18       Monday     28.919118  31.234286   10.580420\n",
       "27/11/18       Tuesday    35.395683  33.269006   10.033333\n",
       "28/11/18       Wednesday  24.500000  44.322581   16.000000\n",
       "29/11/18       Thursday   16.728571  57.117021   24.062500\n",
       "30/11/18       Friday     23.815603  44.211640   24.652778"
      ]
     },
     "execution_count": 117,
     "metadata": {},
     "output_type": "execute_result"
    }
   ],
   "source": [
    "daily_mean = clean_data.groupby([\"Generated Date\",\"Week Day\"])[[\"O3 µg/m3\", \"NO2 µg/m3\", \"PM10 µg/m3\"]].mean()\n",
    "daily_mean"
   ]
  },
  {
   "cell_type": "code",
   "execution_count": 118,
   "metadata": {},
   "outputs": [
    {
     "data": {
      "text/plain": [
       "56.87412587412587"
      ]
     },
     "execution_count": 118,
     "metadata": {},
     "output_type": "execute_result"
    }
   ],
   "source": [
    "daily_mean['O3 µg/m3'].max()"
   ]
  },
  {
   "cell_type": "code",
   "execution_count": 119,
   "metadata": {},
   "outputs": [
    {
     "data": {
      "text/plain": [
       "57.11702127659574"
      ]
     },
     "execution_count": 119,
     "metadata": {},
     "output_type": "execute_result"
    }
   ],
   "source": [
    "daily_mean['NO2 µg/m3'].max()"
   ]
  },
  {
   "cell_type": "code",
   "execution_count": 120,
   "metadata": {},
   "outputs": [
    {
     "data": {
      "text/plain": [
       "28.933333333333334"
      ]
     },
     "execution_count": 120,
     "metadata": {},
     "output_type": "execute_result"
    }
   ],
   "source": [
    "daily_mean['PM10 µg/m3'].max()"
   ]
  },
  {
   "cell_type": "markdown",
   "metadata": {},
   "source": [
    "### Most polluted day O3 µg/m3"
   ]
  },
  {
   "cell_type": "code",
   "execution_count": 121,
   "metadata": {},
   "outputs": [
    {
     "data": {
      "text/html": [
       "<div>\n",
       "<style scoped>\n",
       "    .dataframe tbody tr th:only-of-type {\n",
       "        vertical-align: middle;\n",
       "    }\n",
       "\n",
       "    .dataframe tbody tr th {\n",
       "        vertical-align: top;\n",
       "    }\n",
       "\n",
       "    .dataframe thead th {\n",
       "        text-align: right;\n",
       "    }\n",
       "</style>\n",
       "<table border=\"1\" class=\"dataframe\">\n",
       "  <thead>\n",
       "    <tr style=\"text-align: right;\">\n",
       "      <th></th>\n",
       "      <th></th>\n",
       "      <th>O3 µg/m3</th>\n",
       "      <th>NO2 µg/m3</th>\n",
       "      <th>PM10 µg/m3</th>\n",
       "    </tr>\n",
       "    <tr>\n",
       "      <th>Generated Date</th>\n",
       "      <th>Week Day</th>\n",
       "      <th></th>\n",
       "      <th></th>\n",
       "      <th></th>\n",
       "    </tr>\n",
       "  </thead>\n",
       "  <tbody>\n",
       "    <tr>\n",
       "      <th>18/11/18</th>\n",
       "      <th>Sunday</th>\n",
       "      <td>56.874126</td>\n",
       "      <td>15.896739</td>\n",
       "      <td>14.658333</td>\n",
       "    </tr>\n",
       "  </tbody>\n",
       "</table>\n",
       "</div>"
      ],
      "text/plain": [
       "                          O3 µg/m3  NO2 µg/m3  PM10 µg/m3\n",
       "Generated Date Week Day                                  \n",
       "18/11/18       Sunday    56.874126  15.896739   14.658333"
      ]
     },
     "execution_count": 121,
     "metadata": {},
     "output_type": "execute_result"
    }
   ],
   "source": [
    "daily_mean[daily_mean[\"O3 µg/m3\"] == daily_mean['O3 µg/m3'].max()]"
   ]
  },
  {
   "cell_type": "markdown",
   "metadata": {},
   "source": [
    "### Most polluted day NO2 µg/m3"
   ]
  },
  {
   "cell_type": "code",
   "execution_count": 122,
   "metadata": {},
   "outputs": [
    {
     "data": {
      "text/html": [
       "<div>\n",
       "<style scoped>\n",
       "    .dataframe tbody tr th:only-of-type {\n",
       "        vertical-align: middle;\n",
       "    }\n",
       "\n",
       "    .dataframe tbody tr th {\n",
       "        vertical-align: top;\n",
       "    }\n",
       "\n",
       "    .dataframe thead th {\n",
       "        text-align: right;\n",
       "    }\n",
       "</style>\n",
       "<table border=\"1\" class=\"dataframe\">\n",
       "  <thead>\n",
       "    <tr style=\"text-align: right;\">\n",
       "      <th></th>\n",
       "      <th></th>\n",
       "      <th>O3 µg/m3</th>\n",
       "      <th>NO2 µg/m3</th>\n",
       "      <th>PM10 µg/m3</th>\n",
       "    </tr>\n",
       "    <tr>\n",
       "      <th>Generated Date</th>\n",
       "      <th>Week Day</th>\n",
       "      <th></th>\n",
       "      <th></th>\n",
       "      <th></th>\n",
       "    </tr>\n",
       "  </thead>\n",
       "  <tbody>\n",
       "    <tr>\n",
       "      <th>29/11/18</th>\n",
       "      <th>Thursday</th>\n",
       "      <td>16.728571</td>\n",
       "      <td>57.117021</td>\n",
       "      <td>24.0625</td>\n",
       "    </tr>\n",
       "  </tbody>\n",
       "</table>\n",
       "</div>"
      ],
      "text/plain": [
       "                          O3 µg/m3  NO2 µg/m3  PM10 µg/m3\n",
       "Generated Date Week Day                                  \n",
       "29/11/18       Thursday  16.728571  57.117021     24.0625"
      ]
     },
     "execution_count": 122,
     "metadata": {},
     "output_type": "execute_result"
    }
   ],
   "source": [
    "daily_mean[daily_mean[\"NO2 µg/m3\"] == daily_mean['NO2 µg/m3'].max()]"
   ]
  },
  {
   "cell_type": "markdown",
   "metadata": {},
   "source": [
    "### Most polluted day PM10 µg/m3"
   ]
  },
  {
   "cell_type": "code",
   "execution_count": 123,
   "metadata": {},
   "outputs": [
    {
     "data": {
      "text/html": [
       "<div>\n",
       "<style scoped>\n",
       "    .dataframe tbody tr th:only-of-type {\n",
       "        vertical-align: middle;\n",
       "    }\n",
       "\n",
       "    .dataframe tbody tr th {\n",
       "        vertical-align: top;\n",
       "    }\n",
       "\n",
       "    .dataframe thead th {\n",
       "        text-align: right;\n",
       "    }\n",
       "</style>\n",
       "<table border=\"1\" class=\"dataframe\">\n",
       "  <thead>\n",
       "    <tr style=\"text-align: right;\">\n",
       "      <th></th>\n",
       "      <th></th>\n",
       "      <th>O3 µg/m3</th>\n",
       "      <th>NO2 µg/m3</th>\n",
       "      <th>PM10 µg/m3</th>\n",
       "    </tr>\n",
       "    <tr>\n",
       "      <th>Generated Date</th>\n",
       "      <th>Week Day</th>\n",
       "      <th></th>\n",
       "      <th></th>\n",
       "      <th></th>\n",
       "    </tr>\n",
       "  </thead>\n",
       "  <tbody>\n",
       "    <tr>\n",
       "      <th>13/11/18</th>\n",
       "      <th>Tuesday</th>\n",
       "      <td>43.893617</td>\n",
       "      <td>31.793651</td>\n",
       "      <td>28.933333</td>\n",
       "    </tr>\n",
       "  </tbody>\n",
       "</table>\n",
       "</div>"
      ],
      "text/plain": [
       "                          O3 µg/m3  NO2 µg/m3  PM10 µg/m3\n",
       "Generated Date Week Day                                  \n",
       "13/11/18       Tuesday   43.893617  31.793651   28.933333"
      ]
     },
     "execution_count": 123,
     "metadata": {},
     "output_type": "execute_result"
    }
   ],
   "source": [
    "daily_mean[daily_mean[\"PM10 µg/m3\"] == daily_mean['PM10 µg/m3'].max()]"
   ]
  },
  {
   "cell_type": "markdown",
   "metadata": {},
   "source": [
    "## Most polluted day of the week\n"
   ]
  },
  {
   "cell_type": "code",
   "execution_count": 124,
   "metadata": {},
   "outputs": [],
   "source": [
    "weekly_mean = daily_mean.copy()"
   ]
  },
  {
   "cell_type": "code",
   "execution_count": 125,
   "metadata": {},
   "outputs": [],
   "source": [
    "weekly_mean = weekly_mean.reset_index()"
   ]
  },
  {
   "cell_type": "code",
   "execution_count": 126,
   "metadata": {},
   "outputs": [
    {
     "data": {
      "text/html": [
       "<div>\n",
       "<style scoped>\n",
       "    .dataframe tbody tr th:only-of-type {\n",
       "        vertical-align: middle;\n",
       "    }\n",
       "\n",
       "    .dataframe tbody tr th {\n",
       "        vertical-align: top;\n",
       "    }\n",
       "\n",
       "    .dataframe thead th {\n",
       "        text-align: right;\n",
       "    }\n",
       "</style>\n",
       "<table border=\"1\" class=\"dataframe\">\n",
       "  <thead>\n",
       "    <tr style=\"text-align: right;\">\n",
       "      <th></th>\n",
       "      <th>Generated Date</th>\n",
       "      <th>Week Day</th>\n",
       "      <th>O3 µg/m3</th>\n",
       "      <th>NO2 µg/m3</th>\n",
       "      <th>PM10 µg/m3</th>\n",
       "    </tr>\n",
       "  </thead>\n",
       "  <tbody>\n",
       "    <tr>\n",
       "      <th>0</th>\n",
       "      <td>01/11/18</td>\n",
       "      <td>Thursday</td>\n",
       "      <td>41.779412</td>\n",
       "      <td>28.446927</td>\n",
       "      <td>16.031250</td>\n",
       "    </tr>\n",
       "    <tr>\n",
       "      <th>1</th>\n",
       "      <td>02/11/18</td>\n",
       "      <td>Friday</td>\n",
       "      <td>28.124088</td>\n",
       "      <td>37.536723</td>\n",
       "      <td>11.114583</td>\n",
       "    </tr>\n",
       "    <tr>\n",
       "      <th>2</th>\n",
       "      <td>03/11/18</td>\n",
       "      <td>Saturday</td>\n",
       "      <td>30.036232</td>\n",
       "      <td>29.129730</td>\n",
       "      <td>11.389381</td>\n",
       "    </tr>\n",
       "    <tr>\n",
       "      <th>3</th>\n",
       "      <td>04/11/18</td>\n",
       "      <td>Sunday</td>\n",
       "      <td>36.145038</td>\n",
       "      <td>31.457627</td>\n",
       "      <td>10.016667</td>\n",
       "    </tr>\n",
       "    <tr>\n",
       "      <th>4</th>\n",
       "      <td>05/11/18</td>\n",
       "      <td>Monday</td>\n",
       "      <td>31.992537</td>\n",
       "      <td>45.000000</td>\n",
       "      <td>21.572816</td>\n",
       "    </tr>\n",
       "    <tr>\n",
       "      <th>5</th>\n",
       "      <td>06/11/18</td>\n",
       "      <td>Tuesday</td>\n",
       "      <td>42.300000</td>\n",
       "      <td>26.585106</td>\n",
       "      <td>15.061404</td>\n",
       "    </tr>\n",
       "    <tr>\n",
       "      <th>6</th>\n",
       "      <td>07/11/18</td>\n",
       "      <td>Wednesday</td>\n",
       "      <td>35.648855</td>\n",
       "      <td>40.647399</td>\n",
       "      <td>10.325000</td>\n",
       "    </tr>\n",
       "    <tr>\n",
       "      <th>7</th>\n",
       "      <td>08/11/18</td>\n",
       "      <td>Thursday</td>\n",
       "      <td>25.083333</td>\n",
       "      <td>47.743017</td>\n",
       "      <td>16.200000</td>\n",
       "    </tr>\n",
       "    <tr>\n",
       "      <th>8</th>\n",
       "      <td>09/11/18</td>\n",
       "      <td>Friday</td>\n",
       "      <td>29.661765</td>\n",
       "      <td>39.929348</td>\n",
       "      <td>20.446602</td>\n",
       "    </tr>\n",
       "    <tr>\n",
       "      <th>9</th>\n",
       "      <td>10/11/18</td>\n",
       "      <td>Saturday</td>\n",
       "      <td>42.829787</td>\n",
       "      <td>27.931217</td>\n",
       "      <td>9.583333</td>\n",
       "    </tr>\n",
       "    <tr>\n",
       "      <th>10</th>\n",
       "      <td>11/11/18</td>\n",
       "      <td>Sunday</td>\n",
       "      <td>37.798507</td>\n",
       "      <td>29.061111</td>\n",
       "      <td>13.069565</td>\n",
       "    </tr>\n",
       "    <tr>\n",
       "      <th>11</th>\n",
       "      <td>12/11/18</td>\n",
       "      <td>Monday</td>\n",
       "      <td>33.174825</td>\n",
       "      <td>40.099476</td>\n",
       "      <td>20.141667</td>\n",
       "    </tr>\n",
       "    <tr>\n",
       "      <th>12</th>\n",
       "      <td>13/11/18</td>\n",
       "      <td>Tuesday</td>\n",
       "      <td>43.893617</td>\n",
       "      <td>31.793651</td>\n",
       "      <td>28.933333</td>\n",
       "    </tr>\n",
       "    <tr>\n",
       "      <th>13</th>\n",
       "      <td>14/11/18</td>\n",
       "      <td>Wednesday</td>\n",
       "      <td>42.717391</td>\n",
       "      <td>31.715084</td>\n",
       "      <td>28.491667</td>\n",
       "    </tr>\n",
       "    <tr>\n",
       "      <th>14</th>\n",
       "      <td>15/11/18</td>\n",
       "      <td>Thursday</td>\n",
       "      <td>38.408759</td>\n",
       "      <td>32.410811</td>\n",
       "      <td>22.866667</td>\n",
       "    </tr>\n",
       "    <tr>\n",
       "      <th>15</th>\n",
       "      <td>16/11/18</td>\n",
       "      <td>Friday</td>\n",
       "      <td>24.040000</td>\n",
       "      <td>42.419162</td>\n",
       "      <td>15.867347</td>\n",
       "    </tr>\n",
       "    <tr>\n",
       "      <th>16</th>\n",
       "      <td>17/11/18</td>\n",
       "      <td>Saturday</td>\n",
       "      <td>44.727273</td>\n",
       "      <td>26.244444</td>\n",
       "      <td>21.555556</td>\n",
       "    </tr>\n",
       "    <tr>\n",
       "      <th>17</th>\n",
       "      <td>18/11/18</td>\n",
       "      <td>Sunday</td>\n",
       "      <td>56.874126</td>\n",
       "      <td>15.896739</td>\n",
       "      <td>14.658333</td>\n",
       "    </tr>\n",
       "    <tr>\n",
       "      <th>18</th>\n",
       "      <td>19/11/18</td>\n",
       "      <td>Monday</td>\n",
       "      <td>48.525547</td>\n",
       "      <td>26.893855</td>\n",
       "      <td>15.266667</td>\n",
       "    </tr>\n",
       "    <tr>\n",
       "      <th>19</th>\n",
       "      <td>20/11/18</td>\n",
       "      <td>Tuesday</td>\n",
       "      <td>25.362963</td>\n",
       "      <td>44.382514</td>\n",
       "      <td>16.483333</td>\n",
       "    </tr>\n",
       "    <tr>\n",
       "      <th>20</th>\n",
       "      <td>21/11/18</td>\n",
       "      <td>Wednesday</td>\n",
       "      <td>30.830769</td>\n",
       "      <td>38.248588</td>\n",
       "      <td>14.625000</td>\n",
       "    </tr>\n",
       "    <tr>\n",
       "      <th>21</th>\n",
       "      <td>22/11/18</td>\n",
       "      <td>Thursday</td>\n",
       "      <td>31.267176</td>\n",
       "      <td>45.072626</td>\n",
       "      <td>14.208633</td>\n",
       "    </tr>\n",
       "    <tr>\n",
       "      <th>22</th>\n",
       "      <td>23/11/18</td>\n",
       "      <td>Friday</td>\n",
       "      <td>19.514085</td>\n",
       "      <td>49.615789</td>\n",
       "      <td>20.284722</td>\n",
       "    </tr>\n",
       "    <tr>\n",
       "      <th>23</th>\n",
       "      <td>24/11/18</td>\n",
       "      <td>Saturday</td>\n",
       "      <td>33.438849</td>\n",
       "      <td>27.245989</td>\n",
       "      <td>14.395833</td>\n",
       "    </tr>\n",
       "    <tr>\n",
       "      <th>24</th>\n",
       "      <td>25/11/18</td>\n",
       "      <td>Sunday</td>\n",
       "      <td>37.291667</td>\n",
       "      <td>26.594737</td>\n",
       "      <td>8.993056</td>\n",
       "    </tr>\n",
       "    <tr>\n",
       "      <th>25</th>\n",
       "      <td>26/11/18</td>\n",
       "      <td>Monday</td>\n",
       "      <td>28.919118</td>\n",
       "      <td>31.234286</td>\n",
       "      <td>10.580420</td>\n",
       "    </tr>\n",
       "    <tr>\n",
       "      <th>26</th>\n",
       "      <td>27/11/18</td>\n",
       "      <td>Tuesday</td>\n",
       "      <td>35.395683</td>\n",
       "      <td>33.269006</td>\n",
       "      <td>10.033333</td>\n",
       "    </tr>\n",
       "    <tr>\n",
       "      <th>27</th>\n",
       "      <td>28/11/18</td>\n",
       "      <td>Wednesday</td>\n",
       "      <td>24.500000</td>\n",
       "      <td>44.322581</td>\n",
       "      <td>16.000000</td>\n",
       "    </tr>\n",
       "    <tr>\n",
       "      <th>28</th>\n",
       "      <td>29/11/18</td>\n",
       "      <td>Thursday</td>\n",
       "      <td>16.728571</td>\n",
       "      <td>57.117021</td>\n",
       "      <td>24.062500</td>\n",
       "    </tr>\n",
       "    <tr>\n",
       "      <th>29</th>\n",
       "      <td>30/11/18</td>\n",
       "      <td>Friday</td>\n",
       "      <td>23.815603</td>\n",
       "      <td>44.211640</td>\n",
       "      <td>24.652778</td>\n",
       "    </tr>\n",
       "  </tbody>\n",
       "</table>\n",
       "</div>"
      ],
      "text/plain": [
       "   Generated Date   Week Day   O3 µg/m3  NO2 µg/m3  PM10 µg/m3\n",
       "0        01/11/18   Thursday  41.779412  28.446927   16.031250\n",
       "1        02/11/18     Friday  28.124088  37.536723   11.114583\n",
       "2        03/11/18   Saturday  30.036232  29.129730   11.389381\n",
       "3        04/11/18     Sunday  36.145038  31.457627   10.016667\n",
       "4        05/11/18     Monday  31.992537  45.000000   21.572816\n",
       "5        06/11/18    Tuesday  42.300000  26.585106   15.061404\n",
       "6        07/11/18  Wednesday  35.648855  40.647399   10.325000\n",
       "7        08/11/18   Thursday  25.083333  47.743017   16.200000\n",
       "8        09/11/18     Friday  29.661765  39.929348   20.446602\n",
       "9        10/11/18   Saturday  42.829787  27.931217    9.583333\n",
       "10       11/11/18     Sunday  37.798507  29.061111   13.069565\n",
       "11       12/11/18     Monday  33.174825  40.099476   20.141667\n",
       "12       13/11/18    Tuesday  43.893617  31.793651   28.933333\n",
       "13       14/11/18  Wednesday  42.717391  31.715084   28.491667\n",
       "14       15/11/18   Thursday  38.408759  32.410811   22.866667\n",
       "15       16/11/18     Friday  24.040000  42.419162   15.867347\n",
       "16       17/11/18   Saturday  44.727273  26.244444   21.555556\n",
       "17       18/11/18     Sunday  56.874126  15.896739   14.658333\n",
       "18       19/11/18     Monday  48.525547  26.893855   15.266667\n",
       "19       20/11/18    Tuesday  25.362963  44.382514   16.483333\n",
       "20       21/11/18  Wednesday  30.830769  38.248588   14.625000\n",
       "21       22/11/18   Thursday  31.267176  45.072626   14.208633\n",
       "22       23/11/18     Friday  19.514085  49.615789   20.284722\n",
       "23       24/11/18   Saturday  33.438849  27.245989   14.395833\n",
       "24       25/11/18     Sunday  37.291667  26.594737    8.993056\n",
       "25       26/11/18     Monday  28.919118  31.234286   10.580420\n",
       "26       27/11/18    Tuesday  35.395683  33.269006   10.033333\n",
       "27       28/11/18  Wednesday  24.500000  44.322581   16.000000\n",
       "28       29/11/18   Thursday  16.728571  57.117021   24.062500\n",
       "29       30/11/18     Friday  23.815603  44.211640   24.652778"
      ]
     },
     "execution_count": 126,
     "metadata": {},
     "output_type": "execute_result"
    }
   ],
   "source": [
    "weekly_mean"
   ]
  },
  {
   "cell_type": "code",
   "execution_count": 127,
   "metadata": {},
   "outputs": [],
   "source": [
    "weekly_mean['Generated Date'] = pd.to_datetime(weekly_mean['Generated Date'],format = '%d/%m/%y')"
   ]
  },
  {
   "cell_type": "code",
   "execution_count": 128,
   "metadata": {},
   "outputs": [
    {
     "data": {
      "text/html": [
       "<div>\n",
       "<style scoped>\n",
       "    .dataframe tbody tr th:only-of-type {\n",
       "        vertical-align: middle;\n",
       "    }\n",
       "\n",
       "    .dataframe tbody tr th {\n",
       "        vertical-align: top;\n",
       "    }\n",
       "\n",
       "    .dataframe thead th {\n",
       "        text-align: right;\n",
       "    }\n",
       "</style>\n",
       "<table border=\"1\" class=\"dataframe\">\n",
       "  <thead>\n",
       "    <tr style=\"text-align: right;\">\n",
       "      <th></th>\n",
       "      <th>Generated Date</th>\n",
       "      <th>Week Day</th>\n",
       "      <th>O3 µg/m3</th>\n",
       "      <th>NO2 µg/m3</th>\n",
       "      <th>PM10 µg/m3</th>\n",
       "    </tr>\n",
       "  </thead>\n",
       "  <tbody>\n",
       "    <tr>\n",
       "      <th>0</th>\n",
       "      <td>2018-11-01</td>\n",
       "      <td>Thursday</td>\n",
       "      <td>41.779412</td>\n",
       "      <td>28.446927</td>\n",
       "      <td>16.031250</td>\n",
       "    </tr>\n",
       "    <tr>\n",
       "      <th>1</th>\n",
       "      <td>2018-11-02</td>\n",
       "      <td>Friday</td>\n",
       "      <td>28.124088</td>\n",
       "      <td>37.536723</td>\n",
       "      <td>11.114583</td>\n",
       "    </tr>\n",
       "    <tr>\n",
       "      <th>2</th>\n",
       "      <td>2018-11-03</td>\n",
       "      <td>Saturday</td>\n",
       "      <td>30.036232</td>\n",
       "      <td>29.129730</td>\n",
       "      <td>11.389381</td>\n",
       "    </tr>\n",
       "    <tr>\n",
       "      <th>3</th>\n",
       "      <td>2018-11-04</td>\n",
       "      <td>Sunday</td>\n",
       "      <td>36.145038</td>\n",
       "      <td>31.457627</td>\n",
       "      <td>10.016667</td>\n",
       "    </tr>\n",
       "    <tr>\n",
       "      <th>4</th>\n",
       "      <td>2018-11-05</td>\n",
       "      <td>Monday</td>\n",
       "      <td>31.992537</td>\n",
       "      <td>45.000000</td>\n",
       "      <td>21.572816</td>\n",
       "    </tr>\n",
       "    <tr>\n",
       "      <th>5</th>\n",
       "      <td>2018-11-06</td>\n",
       "      <td>Tuesday</td>\n",
       "      <td>42.300000</td>\n",
       "      <td>26.585106</td>\n",
       "      <td>15.061404</td>\n",
       "    </tr>\n",
       "    <tr>\n",
       "      <th>6</th>\n",
       "      <td>2018-11-07</td>\n",
       "      <td>Wednesday</td>\n",
       "      <td>35.648855</td>\n",
       "      <td>40.647399</td>\n",
       "      <td>10.325000</td>\n",
       "    </tr>\n",
       "    <tr>\n",
       "      <th>7</th>\n",
       "      <td>2018-11-08</td>\n",
       "      <td>Thursday</td>\n",
       "      <td>25.083333</td>\n",
       "      <td>47.743017</td>\n",
       "      <td>16.200000</td>\n",
       "    </tr>\n",
       "    <tr>\n",
       "      <th>8</th>\n",
       "      <td>2018-11-09</td>\n",
       "      <td>Friday</td>\n",
       "      <td>29.661765</td>\n",
       "      <td>39.929348</td>\n",
       "      <td>20.446602</td>\n",
       "    </tr>\n",
       "    <tr>\n",
       "      <th>9</th>\n",
       "      <td>2018-11-10</td>\n",
       "      <td>Saturday</td>\n",
       "      <td>42.829787</td>\n",
       "      <td>27.931217</td>\n",
       "      <td>9.583333</td>\n",
       "    </tr>\n",
       "    <tr>\n",
       "      <th>10</th>\n",
       "      <td>2018-11-11</td>\n",
       "      <td>Sunday</td>\n",
       "      <td>37.798507</td>\n",
       "      <td>29.061111</td>\n",
       "      <td>13.069565</td>\n",
       "    </tr>\n",
       "    <tr>\n",
       "      <th>11</th>\n",
       "      <td>2018-11-12</td>\n",
       "      <td>Monday</td>\n",
       "      <td>33.174825</td>\n",
       "      <td>40.099476</td>\n",
       "      <td>20.141667</td>\n",
       "    </tr>\n",
       "    <tr>\n",
       "      <th>12</th>\n",
       "      <td>2018-11-13</td>\n",
       "      <td>Tuesday</td>\n",
       "      <td>43.893617</td>\n",
       "      <td>31.793651</td>\n",
       "      <td>28.933333</td>\n",
       "    </tr>\n",
       "    <tr>\n",
       "      <th>13</th>\n",
       "      <td>2018-11-14</td>\n",
       "      <td>Wednesday</td>\n",
       "      <td>42.717391</td>\n",
       "      <td>31.715084</td>\n",
       "      <td>28.491667</td>\n",
       "    </tr>\n",
       "    <tr>\n",
       "      <th>14</th>\n",
       "      <td>2018-11-15</td>\n",
       "      <td>Thursday</td>\n",
       "      <td>38.408759</td>\n",
       "      <td>32.410811</td>\n",
       "      <td>22.866667</td>\n",
       "    </tr>\n",
       "    <tr>\n",
       "      <th>15</th>\n",
       "      <td>2018-11-16</td>\n",
       "      <td>Friday</td>\n",
       "      <td>24.040000</td>\n",
       "      <td>42.419162</td>\n",
       "      <td>15.867347</td>\n",
       "    </tr>\n",
       "    <tr>\n",
       "      <th>16</th>\n",
       "      <td>2018-11-17</td>\n",
       "      <td>Saturday</td>\n",
       "      <td>44.727273</td>\n",
       "      <td>26.244444</td>\n",
       "      <td>21.555556</td>\n",
       "    </tr>\n",
       "    <tr>\n",
       "      <th>17</th>\n",
       "      <td>2018-11-18</td>\n",
       "      <td>Sunday</td>\n",
       "      <td>56.874126</td>\n",
       "      <td>15.896739</td>\n",
       "      <td>14.658333</td>\n",
       "    </tr>\n",
       "    <tr>\n",
       "      <th>18</th>\n",
       "      <td>2018-11-19</td>\n",
       "      <td>Monday</td>\n",
       "      <td>48.525547</td>\n",
       "      <td>26.893855</td>\n",
       "      <td>15.266667</td>\n",
       "    </tr>\n",
       "    <tr>\n",
       "      <th>19</th>\n",
       "      <td>2018-11-20</td>\n",
       "      <td>Tuesday</td>\n",
       "      <td>25.362963</td>\n",
       "      <td>44.382514</td>\n",
       "      <td>16.483333</td>\n",
       "    </tr>\n",
       "    <tr>\n",
       "      <th>20</th>\n",
       "      <td>2018-11-21</td>\n",
       "      <td>Wednesday</td>\n",
       "      <td>30.830769</td>\n",
       "      <td>38.248588</td>\n",
       "      <td>14.625000</td>\n",
       "    </tr>\n",
       "    <tr>\n",
       "      <th>21</th>\n",
       "      <td>2018-11-22</td>\n",
       "      <td>Thursday</td>\n",
       "      <td>31.267176</td>\n",
       "      <td>45.072626</td>\n",
       "      <td>14.208633</td>\n",
       "    </tr>\n",
       "    <tr>\n",
       "      <th>22</th>\n",
       "      <td>2018-11-23</td>\n",
       "      <td>Friday</td>\n",
       "      <td>19.514085</td>\n",
       "      <td>49.615789</td>\n",
       "      <td>20.284722</td>\n",
       "    </tr>\n",
       "    <tr>\n",
       "      <th>23</th>\n",
       "      <td>2018-11-24</td>\n",
       "      <td>Saturday</td>\n",
       "      <td>33.438849</td>\n",
       "      <td>27.245989</td>\n",
       "      <td>14.395833</td>\n",
       "    </tr>\n",
       "    <tr>\n",
       "      <th>24</th>\n",
       "      <td>2018-11-25</td>\n",
       "      <td>Sunday</td>\n",
       "      <td>37.291667</td>\n",
       "      <td>26.594737</td>\n",
       "      <td>8.993056</td>\n",
       "    </tr>\n",
       "    <tr>\n",
       "      <th>25</th>\n",
       "      <td>2018-11-26</td>\n",
       "      <td>Monday</td>\n",
       "      <td>28.919118</td>\n",
       "      <td>31.234286</td>\n",
       "      <td>10.580420</td>\n",
       "    </tr>\n",
       "    <tr>\n",
       "      <th>26</th>\n",
       "      <td>2018-11-27</td>\n",
       "      <td>Tuesday</td>\n",
       "      <td>35.395683</td>\n",
       "      <td>33.269006</td>\n",
       "      <td>10.033333</td>\n",
       "    </tr>\n",
       "    <tr>\n",
       "      <th>27</th>\n",
       "      <td>2018-11-28</td>\n",
       "      <td>Wednesday</td>\n",
       "      <td>24.500000</td>\n",
       "      <td>44.322581</td>\n",
       "      <td>16.000000</td>\n",
       "    </tr>\n",
       "    <tr>\n",
       "      <th>28</th>\n",
       "      <td>2018-11-29</td>\n",
       "      <td>Thursday</td>\n",
       "      <td>16.728571</td>\n",
       "      <td>57.117021</td>\n",
       "      <td>24.062500</td>\n",
       "    </tr>\n",
       "    <tr>\n",
       "      <th>29</th>\n",
       "      <td>2018-11-30</td>\n",
       "      <td>Friday</td>\n",
       "      <td>23.815603</td>\n",
       "      <td>44.211640</td>\n",
       "      <td>24.652778</td>\n",
       "    </tr>\n",
       "  </tbody>\n",
       "</table>\n",
       "</div>"
      ],
      "text/plain": [
       "   Generated Date   Week Day   O3 µg/m3  NO2 µg/m3  PM10 µg/m3\n",
       "0      2018-11-01   Thursday  41.779412  28.446927   16.031250\n",
       "1      2018-11-02     Friday  28.124088  37.536723   11.114583\n",
       "2      2018-11-03   Saturday  30.036232  29.129730   11.389381\n",
       "3      2018-11-04     Sunday  36.145038  31.457627   10.016667\n",
       "4      2018-11-05     Monday  31.992537  45.000000   21.572816\n",
       "5      2018-11-06    Tuesday  42.300000  26.585106   15.061404\n",
       "6      2018-11-07  Wednesday  35.648855  40.647399   10.325000\n",
       "7      2018-11-08   Thursday  25.083333  47.743017   16.200000\n",
       "8      2018-11-09     Friday  29.661765  39.929348   20.446602\n",
       "9      2018-11-10   Saturday  42.829787  27.931217    9.583333\n",
       "10     2018-11-11     Sunday  37.798507  29.061111   13.069565\n",
       "11     2018-11-12     Monday  33.174825  40.099476   20.141667\n",
       "12     2018-11-13    Tuesday  43.893617  31.793651   28.933333\n",
       "13     2018-11-14  Wednesday  42.717391  31.715084   28.491667\n",
       "14     2018-11-15   Thursday  38.408759  32.410811   22.866667\n",
       "15     2018-11-16     Friday  24.040000  42.419162   15.867347\n",
       "16     2018-11-17   Saturday  44.727273  26.244444   21.555556\n",
       "17     2018-11-18     Sunday  56.874126  15.896739   14.658333\n",
       "18     2018-11-19     Monday  48.525547  26.893855   15.266667\n",
       "19     2018-11-20    Tuesday  25.362963  44.382514   16.483333\n",
       "20     2018-11-21  Wednesday  30.830769  38.248588   14.625000\n",
       "21     2018-11-22   Thursday  31.267176  45.072626   14.208633\n",
       "22     2018-11-23     Friday  19.514085  49.615789   20.284722\n",
       "23     2018-11-24   Saturday  33.438849  27.245989   14.395833\n",
       "24     2018-11-25     Sunday  37.291667  26.594737    8.993056\n",
       "25     2018-11-26     Monday  28.919118  31.234286   10.580420\n",
       "26     2018-11-27    Tuesday  35.395683  33.269006   10.033333\n",
       "27     2018-11-28  Wednesday  24.500000  44.322581   16.000000\n",
       "28     2018-11-29   Thursday  16.728571  57.117021   24.062500\n",
       "29     2018-11-30     Friday  23.815603  44.211640   24.652778"
      ]
     },
     "execution_count": 128,
     "metadata": {},
     "output_type": "execute_result"
    }
   ],
   "source": [
    "weekly_mean"
   ]
  },
  {
   "cell_type": "markdown",
   "metadata": {},
   "source": [
    "### Calculate max. values for each week"
   ]
  },
  {
   "cell_type": "markdown",
   "metadata": {},
   "source": [
    "### Week 1"
   ]
  },
  {
   "cell_type": "code",
   "execution_count": 129,
   "metadata": {},
   "outputs": [
    {
     "data": {
      "text/plain": [
       "42.3"
      ]
     },
     "execution_count": 129,
     "metadata": {},
     "output_type": "execute_result"
    }
   ],
   "source": [
    "weekly_mean[(weekly_mean['Generated Date']>= '2018-11-01') & (weekly_mean['Generated Date']< '2018-11-08')]['O3 µg/m3'].max()"
   ]
  },
  {
   "cell_type": "code",
   "execution_count": 130,
   "metadata": {},
   "outputs": [
    {
     "data": {
      "text/plain": [
       "45.0"
      ]
     },
     "execution_count": 130,
     "metadata": {},
     "output_type": "execute_result"
    }
   ],
   "source": [
    "weekly_mean[(weekly_mean['Generated Date']>= '2018-11-01') & (weekly_mean['Generated Date']< '2018-11-08')]['NO2 µg/m3'].max()"
   ]
  },
  {
   "cell_type": "code",
   "execution_count": 131,
   "metadata": {},
   "outputs": [
    {
     "data": {
      "text/plain": [
       "21.57281553398058"
      ]
     },
     "execution_count": 131,
     "metadata": {},
     "output_type": "execute_result"
    }
   ],
   "source": [
    "weekly_mean[(weekly_mean['Generated Date']>= '2018-11-01') & (weekly_mean['Generated Date']< '2018-11-08')]['PM10 µg/m3'].max()"
   ]
  },
  {
   "cell_type": "code",
   "execution_count": 132,
   "metadata": {},
   "outputs": [
    {
     "data": {
      "text/html": [
       "<div>\n",
       "<style scoped>\n",
       "    .dataframe tbody tr th:only-of-type {\n",
       "        vertical-align: middle;\n",
       "    }\n",
       "\n",
       "    .dataframe tbody tr th {\n",
       "        vertical-align: top;\n",
       "    }\n",
       "\n",
       "    .dataframe thead th {\n",
       "        text-align: right;\n",
       "    }\n",
       "</style>\n",
       "<table border=\"1\" class=\"dataframe\">\n",
       "  <thead>\n",
       "    <tr style=\"text-align: right;\">\n",
       "      <th></th>\n",
       "      <th>Generated Date</th>\n",
       "      <th>Week Day</th>\n",
       "      <th>O3 µg/m3</th>\n",
       "      <th>NO2 µg/m3</th>\n",
       "      <th>PM10 µg/m3</th>\n",
       "    </tr>\n",
       "  </thead>\n",
       "  <tbody>\n",
       "    <tr>\n",
       "      <th>5</th>\n",
       "      <td>2018-11-06</td>\n",
       "      <td>Tuesday</td>\n",
       "      <td>42.3</td>\n",
       "      <td>26.585106</td>\n",
       "      <td>15.061404</td>\n",
       "    </tr>\n",
       "  </tbody>\n",
       "</table>\n",
       "</div>"
      ],
      "text/plain": [
       "  Generated Date Week Day  O3 µg/m3  NO2 µg/m3  PM10 µg/m3\n",
       "5     2018-11-06  Tuesday      42.3  26.585106   15.061404"
      ]
     },
     "execution_count": 132,
     "metadata": {},
     "output_type": "execute_result"
    }
   ],
   "source": [
    "weekly_mean[weekly_mean[\"O3 µg/m3\"] == weekly_mean[(weekly_mean['Generated Date']>= '2018-11-01') & (weekly_mean['Generated Date']< '2018-11-08')]['O3 µg/m3'].max()]"
   ]
  },
  {
   "cell_type": "code",
   "execution_count": 133,
   "metadata": {},
   "outputs": [
    {
     "data": {
      "text/html": [
       "<div>\n",
       "<style scoped>\n",
       "    .dataframe tbody tr th:only-of-type {\n",
       "        vertical-align: middle;\n",
       "    }\n",
       "\n",
       "    .dataframe tbody tr th {\n",
       "        vertical-align: top;\n",
       "    }\n",
       "\n",
       "    .dataframe thead th {\n",
       "        text-align: right;\n",
       "    }\n",
       "</style>\n",
       "<table border=\"1\" class=\"dataframe\">\n",
       "  <thead>\n",
       "    <tr style=\"text-align: right;\">\n",
       "      <th></th>\n",
       "      <th>Generated Date</th>\n",
       "      <th>Week Day</th>\n",
       "      <th>O3 µg/m3</th>\n",
       "      <th>NO2 µg/m3</th>\n",
       "      <th>PM10 µg/m3</th>\n",
       "    </tr>\n",
       "  </thead>\n",
       "  <tbody>\n",
       "    <tr>\n",
       "      <th>4</th>\n",
       "      <td>2018-11-05</td>\n",
       "      <td>Monday</td>\n",
       "      <td>31.992537</td>\n",
       "      <td>45.0</td>\n",
       "      <td>21.572816</td>\n",
       "    </tr>\n",
       "  </tbody>\n",
       "</table>\n",
       "</div>"
      ],
      "text/plain": [
       "  Generated Date Week Day   O3 µg/m3  NO2 µg/m3  PM10 µg/m3\n",
       "4     2018-11-05   Monday  31.992537       45.0   21.572816"
      ]
     },
     "execution_count": 133,
     "metadata": {},
     "output_type": "execute_result"
    }
   ],
   "source": [
    "weekly_mean[weekly_mean[\"NO2 µg/m3\"] == weekly_mean[(weekly_mean['Generated Date']>= '2018-11-01') & (weekly_mean['Generated Date']< '2018-11-08')]['NO2 µg/m3'].max()]"
   ]
  },
  {
   "cell_type": "code",
   "execution_count": 93,
   "metadata": {},
   "outputs": [
    {
     "data": {
      "text/html": [
       "<div>\n",
       "<style scoped>\n",
       "    .dataframe tbody tr th:only-of-type {\n",
       "        vertical-align: middle;\n",
       "    }\n",
       "\n",
       "    .dataframe tbody tr th {\n",
       "        vertical-align: top;\n",
       "    }\n",
       "\n",
       "    .dataframe thead th {\n",
       "        text-align: right;\n",
       "    }\n",
       "</style>\n",
       "<table border=\"1\" class=\"dataframe\">\n",
       "  <thead>\n",
       "    <tr style=\"text-align: right;\">\n",
       "      <th></th>\n",
       "      <th>Generated Date</th>\n",
       "      <th>Week Day</th>\n",
       "      <th>O3 µg/m3</th>\n",
       "      <th>NO2 µg/m3</th>\n",
       "      <th>PM10 µg/m3</th>\n",
       "    </tr>\n",
       "  </thead>\n",
       "  <tbody>\n",
       "    <tr>\n",
       "      <th>4</th>\n",
       "      <td>2018-11-05</td>\n",
       "      <td>Monday</td>\n",
       "      <td>31.992537</td>\n",
       "      <td>45.0</td>\n",
       "      <td>21.572816</td>\n",
       "    </tr>\n",
       "  </tbody>\n",
       "</table>\n",
       "</div>"
      ],
      "text/plain": [
       "  Generated Date Week Day   O3 µg/m3  NO2 µg/m3  PM10 µg/m3\n",
       "4     2018-11-05   Monday  31.992537       45.0   21.572816"
      ]
     },
     "execution_count": 93,
     "metadata": {},
     "output_type": "execute_result"
    }
   ],
   "source": [
    "weekly_mean[weekly_mean[\"PM10 µg/m3\"] == weekly_mean[(weekly_mean['Generated Date']>= '2018-11-01') & (weekly_mean['Generated Date']< '2018-11-08')]['PM10 µg/m3'].max()]"
   ]
  },
  {
   "cell_type": "markdown",
   "metadata": {},
   "source": [
    "### Week 2"
   ]
  },
  {
   "cell_type": "code",
   "execution_count": 94,
   "metadata": {},
   "outputs": [
    {
     "data": {
      "text/plain": [
       "43.8936170212766"
      ]
     },
     "execution_count": 94,
     "metadata": {},
     "output_type": "execute_result"
    }
   ],
   "source": [
    "weekly_mean[(weekly_mean['Generated Date']>= '2018-11-08') & (weekly_mean['Generated Date']< '2018-11-15')]['O3 µg/m3'].max()"
   ]
  },
  {
   "cell_type": "code",
   "execution_count": 95,
   "metadata": {},
   "outputs": [
    {
     "data": {
      "text/plain": [
       "47.74301675977654"
      ]
     },
     "execution_count": 95,
     "metadata": {},
     "output_type": "execute_result"
    }
   ],
   "source": [
    "weekly_mean[(weekly_mean['Generated Date']>= '2018-11-08') & (weekly_mean['Generated Date']< '2018-11-15')]['NO2 µg/m3'].max()"
   ]
  },
  {
   "cell_type": "code",
   "execution_count": 96,
   "metadata": {},
   "outputs": [
    {
     "data": {
      "text/plain": [
       "28.933333333333334"
      ]
     },
     "execution_count": 96,
     "metadata": {},
     "output_type": "execute_result"
    }
   ],
   "source": [
    "weekly_mean[(weekly_mean['Generated Date']>= '2018-11-08') & (weekly_mean['Generated Date']< '2018-11-15')]['PM10 µg/m3'].max()"
   ]
  },
  {
   "cell_type": "code",
   "execution_count": 97,
   "metadata": {},
   "outputs": [
    {
     "data": {
      "text/html": [
       "<div>\n",
       "<style scoped>\n",
       "    .dataframe tbody tr th:only-of-type {\n",
       "        vertical-align: middle;\n",
       "    }\n",
       "\n",
       "    .dataframe tbody tr th {\n",
       "        vertical-align: top;\n",
       "    }\n",
       "\n",
       "    .dataframe thead th {\n",
       "        text-align: right;\n",
       "    }\n",
       "</style>\n",
       "<table border=\"1\" class=\"dataframe\">\n",
       "  <thead>\n",
       "    <tr style=\"text-align: right;\">\n",
       "      <th></th>\n",
       "      <th>Generated Date</th>\n",
       "      <th>Week Day</th>\n",
       "      <th>O3 µg/m3</th>\n",
       "      <th>NO2 µg/m3</th>\n",
       "      <th>PM10 µg/m3</th>\n",
       "    </tr>\n",
       "  </thead>\n",
       "  <tbody>\n",
       "    <tr>\n",
       "      <th>12</th>\n",
       "      <td>2018-11-13</td>\n",
       "      <td>Tuesday</td>\n",
       "      <td>43.893617</td>\n",
       "      <td>31.793651</td>\n",
       "      <td>28.933333</td>\n",
       "    </tr>\n",
       "  </tbody>\n",
       "</table>\n",
       "</div>"
      ],
      "text/plain": [
       "   Generated Date Week Day   O3 µg/m3  NO2 µg/m3  PM10 µg/m3\n",
       "12     2018-11-13  Tuesday  43.893617  31.793651   28.933333"
      ]
     },
     "execution_count": 97,
     "metadata": {},
     "output_type": "execute_result"
    }
   ],
   "source": [
    "weekly_mean[weekly_mean[\"O3 µg/m3\"] == weekly_mean[(weekly_mean['Generated Date']>= '2018-11-08') & (weekly_mean['Generated Date']< '2018-11-15')]['O3 µg/m3'].max()]"
   ]
  },
  {
   "cell_type": "code",
   "execution_count": 98,
   "metadata": {},
   "outputs": [
    {
     "data": {
      "text/html": [
       "<div>\n",
       "<style scoped>\n",
       "    .dataframe tbody tr th:only-of-type {\n",
       "        vertical-align: middle;\n",
       "    }\n",
       "\n",
       "    .dataframe tbody tr th {\n",
       "        vertical-align: top;\n",
       "    }\n",
       "\n",
       "    .dataframe thead th {\n",
       "        text-align: right;\n",
       "    }\n",
       "</style>\n",
       "<table border=\"1\" class=\"dataframe\">\n",
       "  <thead>\n",
       "    <tr style=\"text-align: right;\">\n",
       "      <th></th>\n",
       "      <th>Generated Date</th>\n",
       "      <th>Week Day</th>\n",
       "      <th>O3 µg/m3</th>\n",
       "      <th>NO2 µg/m3</th>\n",
       "      <th>PM10 µg/m3</th>\n",
       "    </tr>\n",
       "  </thead>\n",
       "  <tbody>\n",
       "    <tr>\n",
       "      <th>7</th>\n",
       "      <td>2018-11-08</td>\n",
       "      <td>Thursday</td>\n",
       "      <td>25.083333</td>\n",
       "      <td>47.743017</td>\n",
       "      <td>16.2</td>\n",
       "    </tr>\n",
       "  </tbody>\n",
       "</table>\n",
       "</div>"
      ],
      "text/plain": [
       "  Generated Date  Week Day   O3 µg/m3  NO2 µg/m3  PM10 µg/m3\n",
       "7     2018-11-08  Thursday  25.083333  47.743017        16.2"
      ]
     },
     "execution_count": 98,
     "metadata": {},
     "output_type": "execute_result"
    }
   ],
   "source": [
    "weekly_mean[weekly_mean[\"NO2 µg/m3\"] == weekly_mean[(weekly_mean['Generated Date']>= '2018-11-08') & (weekly_mean['Generated Date']< '2018-11-15')]['NO2 µg/m3'].max()]"
   ]
  },
  {
   "cell_type": "code",
   "execution_count": 99,
   "metadata": {},
   "outputs": [
    {
     "data": {
      "text/html": [
       "<div>\n",
       "<style scoped>\n",
       "    .dataframe tbody tr th:only-of-type {\n",
       "        vertical-align: middle;\n",
       "    }\n",
       "\n",
       "    .dataframe tbody tr th {\n",
       "        vertical-align: top;\n",
       "    }\n",
       "\n",
       "    .dataframe thead th {\n",
       "        text-align: right;\n",
       "    }\n",
       "</style>\n",
       "<table border=\"1\" class=\"dataframe\">\n",
       "  <thead>\n",
       "    <tr style=\"text-align: right;\">\n",
       "      <th></th>\n",
       "      <th>Generated Date</th>\n",
       "      <th>Week Day</th>\n",
       "      <th>O3 µg/m3</th>\n",
       "      <th>NO2 µg/m3</th>\n",
       "      <th>PM10 µg/m3</th>\n",
       "    </tr>\n",
       "  </thead>\n",
       "  <tbody>\n",
       "    <tr>\n",
       "      <th>12</th>\n",
       "      <td>2018-11-13</td>\n",
       "      <td>Tuesday</td>\n",
       "      <td>43.893617</td>\n",
       "      <td>31.793651</td>\n",
       "      <td>28.933333</td>\n",
       "    </tr>\n",
       "  </tbody>\n",
       "</table>\n",
       "</div>"
      ],
      "text/plain": [
       "   Generated Date Week Day   O3 µg/m3  NO2 µg/m3  PM10 µg/m3\n",
       "12     2018-11-13  Tuesday  43.893617  31.793651   28.933333"
      ]
     },
     "execution_count": 99,
     "metadata": {},
     "output_type": "execute_result"
    }
   ],
   "source": [
    "weekly_mean[weekly_mean[\"PM10 µg/m3\"] == weekly_mean[(weekly_mean['Generated Date']>= '2018-11-08') & (weekly_mean['Generated Date']< '2018-11-15')]['PM10 µg/m3'].max()]"
   ]
  },
  {
   "cell_type": "markdown",
   "metadata": {},
   "source": [
    "### Week 3"
   ]
  },
  {
   "cell_type": "code",
   "execution_count": 100,
   "metadata": {},
   "outputs": [
    {
     "data": {
      "text/plain": [
       "56.87412587412587"
      ]
     },
     "execution_count": 100,
     "metadata": {},
     "output_type": "execute_result"
    }
   ],
   "source": [
    "weekly_mean[(weekly_mean['Generated Date']>= '2018-11-15') & (weekly_mean['Generated Date']< '2018-11-21')]['O3 µg/m3'].max()"
   ]
  },
  {
   "cell_type": "code",
   "execution_count": 101,
   "metadata": {},
   "outputs": [
    {
     "data": {
      "text/plain": [
       "44.38251366120219"
      ]
     },
     "execution_count": 101,
     "metadata": {},
     "output_type": "execute_result"
    }
   ],
   "source": [
    "weekly_mean[(weekly_mean['Generated Date']>= '2018-11-15') & (weekly_mean['Generated Date']< '2018-11-21')]['NO2 µg/m3'].max()"
   ]
  },
  {
   "cell_type": "code",
   "execution_count": 103,
   "metadata": {},
   "outputs": [
    {
     "data": {
      "text/plain": [
       "22.866666666666667"
      ]
     },
     "execution_count": 103,
     "metadata": {},
     "output_type": "execute_result"
    }
   ],
   "source": [
    "weekly_mean[(weekly_mean['Generated Date']>= '2018-11-15') & (weekly_mean['Generated Date']< '2018-11-21')]['PM10 µg/m3'].max()"
   ]
  },
  {
   "cell_type": "code",
   "execution_count": 104,
   "metadata": {},
   "outputs": [
    {
     "data": {
      "text/html": [
       "<div>\n",
       "<style scoped>\n",
       "    .dataframe tbody tr th:only-of-type {\n",
       "        vertical-align: middle;\n",
       "    }\n",
       "\n",
       "    .dataframe tbody tr th {\n",
       "        vertical-align: top;\n",
       "    }\n",
       "\n",
       "    .dataframe thead th {\n",
       "        text-align: right;\n",
       "    }\n",
       "</style>\n",
       "<table border=\"1\" class=\"dataframe\">\n",
       "  <thead>\n",
       "    <tr style=\"text-align: right;\">\n",
       "      <th></th>\n",
       "      <th>Generated Date</th>\n",
       "      <th>Week Day</th>\n",
       "      <th>O3 µg/m3</th>\n",
       "      <th>NO2 µg/m3</th>\n",
       "      <th>PM10 µg/m3</th>\n",
       "    </tr>\n",
       "  </thead>\n",
       "  <tbody>\n",
       "    <tr>\n",
       "      <th>17</th>\n",
       "      <td>2018-11-18</td>\n",
       "      <td>Sunday</td>\n",
       "      <td>56.874126</td>\n",
       "      <td>15.896739</td>\n",
       "      <td>14.658333</td>\n",
       "    </tr>\n",
       "  </tbody>\n",
       "</table>\n",
       "</div>"
      ],
      "text/plain": [
       "   Generated Date Week Day   O3 µg/m3  NO2 µg/m3  PM10 µg/m3\n",
       "17     2018-11-18   Sunday  56.874126  15.896739   14.658333"
      ]
     },
     "execution_count": 104,
     "metadata": {},
     "output_type": "execute_result"
    }
   ],
   "source": [
    "weekly_mean[weekly_mean[\"O3 µg/m3\"] == weekly_mean[(weekly_mean['Generated Date']>= '2018-11-15') & (weekly_mean['Generated Date']< '2018-11-21')]['O3 µg/m3'].max()]"
   ]
  },
  {
   "cell_type": "code",
   "execution_count": 105,
   "metadata": {},
   "outputs": [
    {
     "data": {
      "text/html": [
       "<div>\n",
       "<style scoped>\n",
       "    .dataframe tbody tr th:only-of-type {\n",
       "        vertical-align: middle;\n",
       "    }\n",
       "\n",
       "    .dataframe tbody tr th {\n",
       "        vertical-align: top;\n",
       "    }\n",
       "\n",
       "    .dataframe thead th {\n",
       "        text-align: right;\n",
       "    }\n",
       "</style>\n",
       "<table border=\"1\" class=\"dataframe\">\n",
       "  <thead>\n",
       "    <tr style=\"text-align: right;\">\n",
       "      <th></th>\n",
       "      <th>Generated Date</th>\n",
       "      <th>Week Day</th>\n",
       "      <th>O3 µg/m3</th>\n",
       "      <th>NO2 µg/m3</th>\n",
       "      <th>PM10 µg/m3</th>\n",
       "    </tr>\n",
       "  </thead>\n",
       "  <tbody>\n",
       "    <tr>\n",
       "      <th>19</th>\n",
       "      <td>2018-11-20</td>\n",
       "      <td>Tuesday</td>\n",
       "      <td>25.362963</td>\n",
       "      <td>44.382514</td>\n",
       "      <td>16.483333</td>\n",
       "    </tr>\n",
       "  </tbody>\n",
       "</table>\n",
       "</div>"
      ],
      "text/plain": [
       "   Generated Date Week Day   O3 µg/m3  NO2 µg/m3  PM10 µg/m3\n",
       "19     2018-11-20  Tuesday  25.362963  44.382514   16.483333"
      ]
     },
     "execution_count": 105,
     "metadata": {},
     "output_type": "execute_result"
    }
   ],
   "source": [
    "weekly_mean[weekly_mean[\"NO2 µg/m3\"] == weekly_mean[(weekly_mean['Generated Date']>= '2018-11-15') & (weekly_mean['Generated Date']< '2018-11-21')]['NO2 µg/m3'].max()]"
   ]
  },
  {
   "cell_type": "code",
   "execution_count": 106,
   "metadata": {},
   "outputs": [
    {
     "data": {
      "text/html": [
       "<div>\n",
       "<style scoped>\n",
       "    .dataframe tbody tr th:only-of-type {\n",
       "        vertical-align: middle;\n",
       "    }\n",
       "\n",
       "    .dataframe tbody tr th {\n",
       "        vertical-align: top;\n",
       "    }\n",
       "\n",
       "    .dataframe thead th {\n",
       "        text-align: right;\n",
       "    }\n",
       "</style>\n",
       "<table border=\"1\" class=\"dataframe\">\n",
       "  <thead>\n",
       "    <tr style=\"text-align: right;\">\n",
       "      <th></th>\n",
       "      <th>Generated Date</th>\n",
       "      <th>Week Day</th>\n",
       "      <th>O3 µg/m3</th>\n",
       "      <th>NO2 µg/m3</th>\n",
       "      <th>PM10 µg/m3</th>\n",
       "    </tr>\n",
       "  </thead>\n",
       "  <tbody>\n",
       "    <tr>\n",
       "      <th>14</th>\n",
       "      <td>2018-11-15</td>\n",
       "      <td>Thursday</td>\n",
       "      <td>38.408759</td>\n",
       "      <td>32.410811</td>\n",
       "      <td>22.866667</td>\n",
       "    </tr>\n",
       "  </tbody>\n",
       "</table>\n",
       "</div>"
      ],
      "text/plain": [
       "   Generated Date  Week Day   O3 µg/m3  NO2 µg/m3  PM10 µg/m3\n",
       "14     2018-11-15  Thursday  38.408759  32.410811   22.866667"
      ]
     },
     "execution_count": 106,
     "metadata": {},
     "output_type": "execute_result"
    }
   ],
   "source": [
    "weekly_mean[weekly_mean[\"PM10 µg/m3\"] == weekly_mean[(weekly_mean['Generated Date']>= '2018-11-15') & (weekly_mean['Generated Date']< '2018-11-21')]['PM10 µg/m3'].max()]"
   ]
  },
  {
   "cell_type": "markdown",
   "metadata": {},
   "source": [
    "### Week 4"
   ]
  },
  {
   "cell_type": "code",
   "execution_count": 107,
   "metadata": {},
   "outputs": [
    {
     "data": {
      "text/plain": [
       "37.291666666666664"
      ]
     },
     "execution_count": 107,
     "metadata": {},
     "output_type": "execute_result"
    }
   ],
   "source": [
    "weekly_mean[(weekly_mean['Generated Date']>= '2018-11-21') & (weekly_mean['Generated Date']< '2018-11-28')]['O3 µg/m3'].max()"
   ]
  },
  {
   "cell_type": "code",
   "execution_count": 66,
   "metadata": {},
   "outputs": [
    {
     "data": {
      "text/plain": [
       "49.61578947368421"
      ]
     },
     "execution_count": 66,
     "metadata": {},
     "output_type": "execute_result"
    }
   ],
   "source": [
    "weekly_mean[(weekly_mean['Generated Date']>= '2018-11-21') & (weekly_mean['Generated Date']< '2018-11-28')]['NO2 µg/m3'].max()"
   ]
  },
  {
   "cell_type": "code",
   "execution_count": 67,
   "metadata": {},
   "outputs": [
    {
     "data": {
      "text/plain": [
       "20.28472222222222"
      ]
     },
     "execution_count": 67,
     "metadata": {},
     "output_type": "execute_result"
    }
   ],
   "source": [
    "weekly_mean[(weekly_mean['Generated Date']>= '2018-11-21') & (weekly_mean['Generated Date']< '2018-11-28')]['PM10 µg/m3'].max()"
   ]
  },
  {
   "cell_type": "code",
   "execution_count": 68,
   "metadata": {},
   "outputs": [
    {
     "data": {
      "text/html": [
       "<div>\n",
       "<style scoped>\n",
       "    .dataframe tbody tr th:only-of-type {\n",
       "        vertical-align: middle;\n",
       "    }\n",
       "\n",
       "    .dataframe tbody tr th {\n",
       "        vertical-align: top;\n",
       "    }\n",
       "\n",
       "    .dataframe thead th {\n",
       "        text-align: right;\n",
       "    }\n",
       "</style>\n",
       "<table border=\"1\" class=\"dataframe\">\n",
       "  <thead>\n",
       "    <tr style=\"text-align: right;\">\n",
       "      <th></th>\n",
       "      <th>Generated Date</th>\n",
       "      <th>Week Day</th>\n",
       "      <th>O3 µg/m3</th>\n",
       "      <th>NO2 µg/m3</th>\n",
       "      <th>PM10 µg/m3</th>\n",
       "    </tr>\n",
       "  </thead>\n",
       "  <tbody>\n",
       "    <tr>\n",
       "      <th>24</th>\n",
       "      <td>2018-11-25</td>\n",
       "      <td>Sunday</td>\n",
       "      <td>37.291667</td>\n",
       "      <td>26.594737</td>\n",
       "      <td>8.993056</td>\n",
       "    </tr>\n",
       "  </tbody>\n",
       "</table>\n",
       "</div>"
      ],
      "text/plain": [
       "   Generated Date Week Day   O3 µg/m3  NO2 µg/m3  PM10 µg/m3\n",
       "24     2018-11-25   Sunday  37.291667  26.594737    8.993056"
      ]
     },
     "execution_count": 68,
     "metadata": {},
     "output_type": "execute_result"
    }
   ],
   "source": [
    "weekly_mean[weekly_mean[\"O3 µg/m3\"] == weekly_mean[(weekly_mean['Generated Date']>= '2018-11-21') & (weekly_mean['Generated Date']< '2018-11-28')]['O3 µg/m3'].max()]"
   ]
  },
  {
   "cell_type": "code",
   "execution_count": 69,
   "metadata": {},
   "outputs": [
    {
     "data": {
      "text/html": [
       "<div>\n",
       "<style scoped>\n",
       "    .dataframe tbody tr th:only-of-type {\n",
       "        vertical-align: middle;\n",
       "    }\n",
       "\n",
       "    .dataframe tbody tr th {\n",
       "        vertical-align: top;\n",
       "    }\n",
       "\n",
       "    .dataframe thead th {\n",
       "        text-align: right;\n",
       "    }\n",
       "</style>\n",
       "<table border=\"1\" class=\"dataframe\">\n",
       "  <thead>\n",
       "    <tr style=\"text-align: right;\">\n",
       "      <th></th>\n",
       "      <th>Generated Date</th>\n",
       "      <th>Week Day</th>\n",
       "      <th>O3 µg/m3</th>\n",
       "      <th>NO2 µg/m3</th>\n",
       "      <th>PM10 µg/m3</th>\n",
       "    </tr>\n",
       "  </thead>\n",
       "  <tbody>\n",
       "    <tr>\n",
       "      <th>22</th>\n",
       "      <td>2018-11-23</td>\n",
       "      <td>Friday</td>\n",
       "      <td>19.514085</td>\n",
       "      <td>49.615789</td>\n",
       "      <td>20.284722</td>\n",
       "    </tr>\n",
       "  </tbody>\n",
       "</table>\n",
       "</div>"
      ],
      "text/plain": [
       "   Generated Date Week Day   O3 µg/m3  NO2 µg/m3  PM10 µg/m3\n",
       "22     2018-11-23   Friday  19.514085  49.615789   20.284722"
      ]
     },
     "execution_count": 69,
     "metadata": {},
     "output_type": "execute_result"
    }
   ],
   "source": [
    "weekly_mean[weekly_mean[\"NO2 µg/m3\"] == weekly_mean[(weekly_mean['Generated Date']>= '2018-11-21') & (weekly_mean['Generated Date']< '2018-11-28')]['NO2 µg/m3'].max()]"
   ]
  },
  {
   "cell_type": "code",
   "execution_count": 70,
   "metadata": {},
   "outputs": [
    {
     "data": {
      "text/html": [
       "<div>\n",
       "<style scoped>\n",
       "    .dataframe tbody tr th:only-of-type {\n",
       "        vertical-align: middle;\n",
       "    }\n",
       "\n",
       "    .dataframe tbody tr th {\n",
       "        vertical-align: top;\n",
       "    }\n",
       "\n",
       "    .dataframe thead th {\n",
       "        text-align: right;\n",
       "    }\n",
       "</style>\n",
       "<table border=\"1\" class=\"dataframe\">\n",
       "  <thead>\n",
       "    <tr style=\"text-align: right;\">\n",
       "      <th></th>\n",
       "      <th>Generated Date</th>\n",
       "      <th>Week Day</th>\n",
       "      <th>O3 µg/m3</th>\n",
       "      <th>NO2 µg/m3</th>\n",
       "      <th>PM10 µg/m3</th>\n",
       "    </tr>\n",
       "  </thead>\n",
       "  <tbody>\n",
       "    <tr>\n",
       "      <th>22</th>\n",
       "      <td>2018-11-23</td>\n",
       "      <td>Friday</td>\n",
       "      <td>19.514085</td>\n",
       "      <td>49.615789</td>\n",
       "      <td>20.284722</td>\n",
       "    </tr>\n",
       "  </tbody>\n",
       "</table>\n",
       "</div>"
      ],
      "text/plain": [
       "   Generated Date Week Day   O3 µg/m3  NO2 µg/m3  PM10 µg/m3\n",
       "22     2018-11-23   Friday  19.514085  49.615789   20.284722"
      ]
     },
     "execution_count": 70,
     "metadata": {},
     "output_type": "execute_result"
    }
   ],
   "source": [
    "weekly_mean[weekly_mean[\"PM10 µg/m3\"] == weekly_mean[(weekly_mean['Generated Date']>= '2018-11-21') & (weekly_mean['Generated Date']< '2018-11-28')]['PM10 µg/m3'].max()]"
   ]
  },
  {
   "cell_type": "markdown",
   "metadata": {},
   "source": [
    "### Which hour of the month has the highest pollution?"
   ]
  },
  {
   "cell_type": "code",
   "execution_count": 108,
   "metadata": {},
   "outputs": [
    {
     "data": {
      "text/html": [
       "<div>\n",
       "<style scoped>\n",
       "    .dataframe tbody tr th:only-of-type {\n",
       "        vertical-align: middle;\n",
       "    }\n",
       "\n",
       "    .dataframe tbody tr th {\n",
       "        vertical-align: top;\n",
       "    }\n",
       "\n",
       "    .dataframe thead th {\n",
       "        text-align: right;\n",
       "    }\n",
       "</style>\n",
       "<table border=\"1\" class=\"dataframe\">\n",
       "  <thead>\n",
       "    <tr style=\"text-align: right;\">\n",
       "      <th></th>\n",
       "      <th>Generated Time</th>\n",
       "      <th>O3 µg/m3</th>\n",
       "      <th>NO2 µg/m3</th>\n",
       "      <th>PM10 µg/m3</th>\n",
       "    </tr>\n",
       "  </thead>\n",
       "  <tbody>\n",
       "    <tr>\n",
       "      <th>0</th>\n",
       "      <td>0:00</td>\n",
       "      <td>30.257669</td>\n",
       "      <td>42.454128</td>\n",
       "      <td>16.841379</td>\n",
       "    </tr>\n",
       "    <tr>\n",
       "      <th>1</th>\n",
       "      <td>10:00</td>\n",
       "      <td>25.907514</td>\n",
       "      <td>45.352174</td>\n",
       "      <td>16.248322</td>\n",
       "    </tr>\n",
       "    <tr>\n",
       "      <th>2</th>\n",
       "      <td>11:00</td>\n",
       "      <td>28.178771</td>\n",
       "      <td>43.806723</td>\n",
       "      <td>16.409091</td>\n",
       "    </tr>\n",
       "    <tr>\n",
       "      <th>3</th>\n",
       "      <td>12:00</td>\n",
       "      <td>33.207447</td>\n",
       "      <td>37.649402</td>\n",
       "      <td>16.500000</td>\n",
       "    </tr>\n",
       "    <tr>\n",
       "      <th>4</th>\n",
       "      <td>13:00</td>\n",
       "      <td>38.668750</td>\n",
       "      <td>31.590698</td>\n",
       "      <td>16.472222</td>\n",
       "    </tr>\n",
       "    <tr>\n",
       "      <th>5</th>\n",
       "      <td>14:00</td>\n",
       "      <td>43.491429</td>\n",
       "      <td>27.953390</td>\n",
       "      <td>16.651899</td>\n",
       "    </tr>\n",
       "    <tr>\n",
       "      <th>6</th>\n",
       "      <td>15:00</td>\n",
       "      <td>43.865385</td>\n",
       "      <td>28.403756</td>\n",
       "      <td>16.337838</td>\n",
       "    </tr>\n",
       "    <tr>\n",
       "      <th>7</th>\n",
       "      <td>16:00</td>\n",
       "      <td>44.450867</td>\n",
       "      <td>29.160870</td>\n",
       "      <td>16.562092</td>\n",
       "    </tr>\n",
       "    <tr>\n",
       "      <th>8</th>\n",
       "      <td>17:00</td>\n",
       "      <td>44.784431</td>\n",
       "      <td>28.429864</td>\n",
       "      <td>16.545455</td>\n",
       "    </tr>\n",
       "    <tr>\n",
       "      <th>9</th>\n",
       "      <td>18:00</td>\n",
       "      <td>41.529070</td>\n",
       "      <td>33.377193</td>\n",
       "      <td>16.597484</td>\n",
       "    </tr>\n",
       "    <tr>\n",
       "      <th>10</th>\n",
       "      <td>19:00</td>\n",
       "      <td>34.836257</td>\n",
       "      <td>41.690583</td>\n",
       "      <td>16.452703</td>\n",
       "    </tr>\n",
       "    <tr>\n",
       "      <th>11</th>\n",
       "      <td>1:00</td>\n",
       "      <td>29.227778</td>\n",
       "      <td>40.691667</td>\n",
       "      <td>16.673333</td>\n",
       "    </tr>\n",
       "    <tr>\n",
       "      <th>12</th>\n",
       "      <td>20:00</td>\n",
       "      <td>28.912281</td>\n",
       "      <td>48.336283</td>\n",
       "      <td>16.555556</td>\n",
       "    </tr>\n",
       "    <tr>\n",
       "      <th>13</th>\n",
       "      <td>21:00</td>\n",
       "      <td>27.254438</td>\n",
       "      <td>50.098214</td>\n",
       "      <td>16.549020</td>\n",
       "    </tr>\n",
       "    <tr>\n",
       "      <th>14</th>\n",
       "      <td>22:00</td>\n",
       "      <td>27.763314</td>\n",
       "      <td>48.942222</td>\n",
       "      <td>16.503268</td>\n",
       "    </tr>\n",
       "    <tr>\n",
       "      <th>15</th>\n",
       "      <td>23:00</td>\n",
       "      <td>29.342657</td>\n",
       "      <td>45.634921</td>\n",
       "      <td>16.539474</td>\n",
       "    </tr>\n",
       "    <tr>\n",
       "      <th>16</th>\n",
       "      <td>2:00</td>\n",
       "      <td>30.221591</td>\n",
       "      <td>35.948498</td>\n",
       "      <td>16.852349</td>\n",
       "    </tr>\n",
       "    <tr>\n",
       "      <th>17</th>\n",
       "      <td>3:00</td>\n",
       "      <td>32.925287</td>\n",
       "      <td>30.766234</td>\n",
       "      <td>16.880000</td>\n",
       "    </tr>\n",
       "    <tr>\n",
       "      <th>18</th>\n",
       "      <td>4:00</td>\n",
       "      <td>35.517442</td>\n",
       "      <td>26.633188</td>\n",
       "      <td>16.880000</td>\n",
       "    </tr>\n",
       "    <tr>\n",
       "      <th>19</th>\n",
       "      <td>5:00</td>\n",
       "      <td>36.639535</td>\n",
       "      <td>24.672489</td>\n",
       "      <td>16.841060</td>\n",
       "    </tr>\n",
       "    <tr>\n",
       "      <th>20</th>\n",
       "      <td>6:00</td>\n",
       "      <td>36.813953</td>\n",
       "      <td>23.445415</td>\n",
       "      <td>16.723684</td>\n",
       "    </tr>\n",
       "    <tr>\n",
       "      <th>21</th>\n",
       "      <td>7:00</td>\n",
       "      <td>36.045977</td>\n",
       "      <td>24.120690</td>\n",
       "      <td>16.509804</td>\n",
       "    </tr>\n",
       "    <tr>\n",
       "      <th>22</th>\n",
       "      <td>8:00</td>\n",
       "      <td>31.903955</td>\n",
       "      <td>30.101695</td>\n",
       "      <td>16.503268</td>\n",
       "    </tr>\n",
       "    <tr>\n",
       "      <th>23</th>\n",
       "      <td>9:00</td>\n",
       "      <td>27.165714</td>\n",
       "      <td>40.145299</td>\n",
       "      <td>16.545455</td>\n",
       "    </tr>\n",
       "  </tbody>\n",
       "</table>\n",
       "</div>"
      ],
      "text/plain": [
       "   Generated Time   O3 µg/m3  NO2 µg/m3  PM10 µg/m3\n",
       "0            0:00  30.257669  42.454128   16.841379\n",
       "1           10:00  25.907514  45.352174   16.248322\n",
       "2           11:00  28.178771  43.806723   16.409091\n",
       "3           12:00  33.207447  37.649402   16.500000\n",
       "4           13:00  38.668750  31.590698   16.472222\n",
       "5           14:00  43.491429  27.953390   16.651899\n",
       "6           15:00  43.865385  28.403756   16.337838\n",
       "7           16:00  44.450867  29.160870   16.562092\n",
       "8           17:00  44.784431  28.429864   16.545455\n",
       "9           18:00  41.529070  33.377193   16.597484\n",
       "10          19:00  34.836257  41.690583   16.452703\n",
       "11           1:00  29.227778  40.691667   16.673333\n",
       "12          20:00  28.912281  48.336283   16.555556\n",
       "13          21:00  27.254438  50.098214   16.549020\n",
       "14          22:00  27.763314  48.942222   16.503268\n",
       "15          23:00  29.342657  45.634921   16.539474\n",
       "16           2:00  30.221591  35.948498   16.852349\n",
       "17           3:00  32.925287  30.766234   16.880000\n",
       "18           4:00  35.517442  26.633188   16.880000\n",
       "19           5:00  36.639535  24.672489   16.841060\n",
       "20           6:00  36.813953  23.445415   16.723684\n",
       "21           7:00  36.045977  24.120690   16.509804\n",
       "22           8:00  31.903955  30.101695   16.503268\n",
       "23           9:00  27.165714  40.145299   16.545455"
      ]
     },
     "execution_count": 108,
     "metadata": {},
     "output_type": "execute_result"
    }
   ],
   "source": [
    "daily_max = clean_data.groupby([\"Generated Time\"])[[\"O3 µg/m3\", \"NO2 µg/m3\", \"PM10 µg/m3\"]].mean()\n",
    "daily_max = daily_max.reset_index()\n",
    "daily_max"
   ]
  },
  {
   "cell_type": "code",
   "execution_count": 109,
   "metadata": {},
   "outputs": [
    {
     "data": {
      "text/plain": [
       "Generated Time       9:00\n",
       "O3 µg/m3          44.7844\n",
       "NO2 µg/m3         50.0982\n",
       "PM10 µg/m3          16.88\n",
       "dtype: object"
      ]
     },
     "execution_count": 109,
     "metadata": {},
     "output_type": "execute_result"
    }
   ],
   "source": [
    "maxmax = daily_max.max()\n",
    "maxmax"
   ]
  },
  {
   "cell_type": "code",
   "execution_count": 110,
   "metadata": {},
   "outputs": [
    {
     "data": {
      "text/plain": [
       "44.78443113772455"
      ]
     },
     "execution_count": 110,
     "metadata": {},
     "output_type": "execute_result"
    }
   ],
   "source": [
    "daily_max['O3 µg/m3'].max()"
   ]
  },
  {
   "cell_type": "code",
   "execution_count": 111,
   "metadata": {},
   "outputs": [
    {
     "data": {
      "text/plain": [
       "50.098214285714285"
      ]
     },
     "execution_count": 111,
     "metadata": {},
     "output_type": "execute_result"
    }
   ],
   "source": [
    "daily_max['NO2 µg/m3'].max()"
   ]
  },
  {
   "cell_type": "code",
   "execution_count": 112,
   "metadata": {},
   "outputs": [
    {
     "data": {
      "text/plain": [
       "16.88"
      ]
     },
     "execution_count": 112,
     "metadata": {},
     "output_type": "execute_result"
    }
   ],
   "source": [
    "daily_max['PM10 µg/m3'].max()"
   ]
  },
  {
   "cell_type": "markdown",
   "metadata": {},
   "source": [
    "#### Highest value in hour O3 µg/m3"
   ]
  },
  {
   "cell_type": "code",
   "execution_count": 291,
   "metadata": {},
   "outputs": [
    {
     "data": {
      "text/html": [
       "<div>\n",
       "<style scoped>\n",
       "    .dataframe tbody tr th:only-of-type {\n",
       "        vertical-align: middle;\n",
       "    }\n",
       "\n",
       "    .dataframe tbody tr th {\n",
       "        vertical-align: top;\n",
       "    }\n",
       "\n",
       "    .dataframe thead th {\n",
       "        text-align: right;\n",
       "    }\n",
       "</style>\n",
       "<table border=\"1\" class=\"dataframe\">\n",
       "  <thead>\n",
       "    <tr style=\"text-align: right;\">\n",
       "      <th></th>\n",
       "      <th>O3 µg/m3</th>\n",
       "      <th>NO2 µg/m3</th>\n",
       "      <th>PM10 µg/m3</th>\n",
       "    </tr>\n",
       "    <tr>\n",
       "      <th>Generated Time</th>\n",
       "      <th></th>\n",
       "      <th></th>\n",
       "      <th></th>\n",
       "    </tr>\n",
       "  </thead>\n",
       "  <tbody>\n",
       "    <tr>\n",
       "      <th>17:00</th>\n",
       "      <td>44.784431</td>\n",
       "      <td>28.429864</td>\n",
       "      <td>16.545455</td>\n",
       "    </tr>\n",
       "  </tbody>\n",
       "</table>\n",
       "</div>"
      ],
      "text/plain": [
       "                 O3 µg/m3  NO2 µg/m3  PM10 µg/m3\n",
       "Generated Time                                  \n",
       "17:00           44.784431  28.429864   16.545455"
      ]
     },
     "execution_count": 291,
     "metadata": {},
     "output_type": "execute_result"
    }
   ],
   "source": [
    "daily_max[daily_max[\"O3 µg/m3\"] == daily_max['O3 µg/m3'].max()]"
   ]
  },
  {
   "cell_type": "markdown",
   "metadata": {},
   "source": [
    "#### Highest value in hour NO2 µg/m3"
   ]
  },
  {
   "cell_type": "code",
   "execution_count": 292,
   "metadata": {},
   "outputs": [
    {
     "data": {
      "text/html": [
       "<div>\n",
       "<style scoped>\n",
       "    .dataframe tbody tr th:only-of-type {\n",
       "        vertical-align: middle;\n",
       "    }\n",
       "\n",
       "    .dataframe tbody tr th {\n",
       "        vertical-align: top;\n",
       "    }\n",
       "\n",
       "    .dataframe thead th {\n",
       "        text-align: right;\n",
       "    }\n",
       "</style>\n",
       "<table border=\"1\" class=\"dataframe\">\n",
       "  <thead>\n",
       "    <tr style=\"text-align: right;\">\n",
       "      <th></th>\n",
       "      <th>O3 µg/m3</th>\n",
       "      <th>NO2 µg/m3</th>\n",
       "      <th>PM10 µg/m3</th>\n",
       "    </tr>\n",
       "    <tr>\n",
       "      <th>Generated Time</th>\n",
       "      <th></th>\n",
       "      <th></th>\n",
       "      <th></th>\n",
       "    </tr>\n",
       "  </thead>\n",
       "  <tbody>\n",
       "    <tr>\n",
       "      <th>21:00</th>\n",
       "      <td>27.254438</td>\n",
       "      <td>50.098214</td>\n",
       "      <td>16.54902</td>\n",
       "    </tr>\n",
       "  </tbody>\n",
       "</table>\n",
       "</div>"
      ],
      "text/plain": [
       "                 O3 µg/m3  NO2 µg/m3  PM10 µg/m3\n",
       "Generated Time                                  \n",
       "21:00           27.254438  50.098214    16.54902"
      ]
     },
     "execution_count": 292,
     "metadata": {},
     "output_type": "execute_result"
    }
   ],
   "source": [
    "daily_max[daily_max[\"NO2 µg/m3\"] == daily_max['NO2 µg/m3'].max()]"
   ]
  },
  {
   "cell_type": "markdown",
   "metadata": {},
   "source": [
    "#### Highest value in hour NO2 µg/m3"
   ]
  },
  {
   "cell_type": "code",
   "execution_count": 293,
   "metadata": {},
   "outputs": [
    {
     "data": {
      "text/html": [
       "<div>\n",
       "<style scoped>\n",
       "    .dataframe tbody tr th:only-of-type {\n",
       "        vertical-align: middle;\n",
       "    }\n",
       "\n",
       "    .dataframe tbody tr th {\n",
       "        vertical-align: top;\n",
       "    }\n",
       "\n",
       "    .dataframe thead th {\n",
       "        text-align: right;\n",
       "    }\n",
       "</style>\n",
       "<table border=\"1\" class=\"dataframe\">\n",
       "  <thead>\n",
       "    <tr style=\"text-align: right;\">\n",
       "      <th></th>\n",
       "      <th>O3 µg/m3</th>\n",
       "      <th>NO2 µg/m3</th>\n",
       "      <th>PM10 µg/m3</th>\n",
       "    </tr>\n",
       "    <tr>\n",
       "      <th>Generated Time</th>\n",
       "      <th></th>\n",
       "      <th></th>\n",
       "      <th></th>\n",
       "    </tr>\n",
       "  </thead>\n",
       "  <tbody>\n",
       "    <tr>\n",
       "      <th>3:00</th>\n",
       "      <td>32.925287</td>\n",
       "      <td>30.766234</td>\n",
       "      <td>16.88</td>\n",
       "    </tr>\n",
       "    <tr>\n",
       "      <th>4:00</th>\n",
       "      <td>35.517442</td>\n",
       "      <td>26.633188</td>\n",
       "      <td>16.88</td>\n",
       "    </tr>\n",
       "  </tbody>\n",
       "</table>\n",
       "</div>"
      ],
      "text/plain": [
       "                 O3 µg/m3  NO2 µg/m3  PM10 µg/m3\n",
       "Generated Time                                  \n",
       "3:00            32.925287  30.766234       16.88\n",
       "4:00            35.517442  26.633188       16.88"
      ]
     },
     "execution_count": 293,
     "metadata": {},
     "output_type": "execute_result"
    }
   ],
   "source": [
    "daily_max[daily_max[\"PM10 µg/m3\"] == daily_max[\"PM10 µg/m3\"].max()]"
   ]
  },
  {
   "cell_type": "code",
   "execution_count": null,
   "metadata": {},
   "outputs": [],
   "source": [
    "print(df['Comedy_Score'].where(df['Rating_Score'] < 50))"
   ]
  }
 ],
 "metadata": {
  "kernelspec": {
   "display_name": "Python 3",
   "language": "python",
   "name": "python3"
  },
  "language_info": {
   "codemirror_mode": {
    "name": "ipython",
    "version": 3
   },
   "file_extension": ".py",
   "mimetype": "text/x-python",
   "name": "python",
   "nbconvert_exporter": "python",
   "pygments_lexer": "ipython3",
   "version": "3.8.5"
  }
 },
 "nbformat": 4,
 "nbformat_minor": 4
}
